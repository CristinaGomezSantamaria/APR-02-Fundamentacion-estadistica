{
 "cells": [
  {
   "cell_type": "markdown",
   "metadata": {
    "slideshow": {
     "slide_type": "slide"
    }
   },
   "source": [
    "Arboles de Decisión\n",
    "===\n",
    "\n",
    "**Juan David Velásquez Henao**  \n",
    "jdvelasq@unal.edu.co   \n",
    "Universidad Nacional de Colombia, Sede Medellín  \n",
    "Facultad de Minas  \n",
    "Medellín, Colombia\n",
    "\n",
    "---\n",
    "\n",
    "Haga click [aquí](https://github.com/jdvelasq/statistics-for-analytics/tree/master/) para acceder al repositorio online.\n",
    "\n",
    "Haga click [aquí](http://nbviewer.jupyter.org/github/jdvelasq/statistics-for-analytics/tree/master/) para explorar el repositorio usando `nbviewer`. "
   ]
  },
  {
   "cell_type": "markdown",
   "metadata": {},
   "source": [
    "---"
   ]
  },
  {
   "cell_type": "markdown",
   "metadata": {},
   "source": [
    "Una red neuronal artificial es un modelo matemático de regresión no lineal inspirado en las redes de neuronas del cerebro. Una neurona esta representada matemáticamente como se indica en la siguiente figura."
   ]
  },
  {
   "cell_type": "markdown",
   "metadata": {},
   "source": [
    "![alt text](images/nnet/neurona.jpg)"
   ]
  },
  {
   "cell_type": "markdown",
   "metadata": {},
   "source": [
    "*  $x_1$, ..., $x_n$ representan las entradas a la neurona.\n",
    "\n",
    "\n",
    "* $w_0$, ..., $w_n$ representan los pesos ajustables (parámetros de la neurona).\n",
    "\n",
    "\n",
    "* $+1$ es una entrada unitaria.\n",
    "\n",
    "\n",
    "* $\\sigma()$ representa la función de activación de la neurona, que para este caso particular es la función logística, definida como:\n",
    "\n",
    "\n",
    "$$ \\sigma(u) = \\frac{1}{1+\\exp(-u)} $$\n",
    "\n",
    "\n",
    "De esta forma, el modelo matemático de una neurona es:\n",
    "\n",
    "$$y = \\sigma \\big(w_0 + \\sum_{i=1}^n w_i*x_i    \\big)$$\n",
    "\n",
    "Note que la parte entre paréntesis es equivalente a un modelo de regresión lineal, por lo que la neurona puede interpretarse matemáticamente como un modelo  de regresión no lineal."
   ]
  },
  {
   "cell_type": "markdown",
   "metadata": {},
   "source": [
    "Al unir varias neuronas, tal que las salidas de unas sean las entradas de otras, se pueden formar diferentes tipos de arquitecturas de redes neuronales. La más común es la red de propagación hacia adelante, en la que cada capa de neuronas se conecta con la siguiente. La figura de abajo presenta una arquitectura con dos entradas ($x_1$ y $x_2$), una capa oculta de procesamiento con dos neuronas y una variable de salida ($y$)."
   ]
  },
  {
   "cell_type": "markdown",
   "metadata": {},
   "source": [
    "![alt text](images/nnet/nnet.jpg)"
   ]
  },
  {
   "cell_type": "markdown",
   "metadata": {},
   "source": [
    "El modelo anterior es equivalente a la siguiente ecuación de regresión con $H=2$ e $I=2$:\n",
    "\n",
    "$$y = b_2 + \\sum_{h=1}^H w_2[h,1] * \\sigma \\Big( b_1[h] + \\sum_{i=1}^I w_1[i,h] * x_i \\Big)$$ "
   ]
  },
  {
   "cell_type": "markdown",
   "metadata": {},
   "source": [
    "**Ejercicio.--** Identifique los parámetros del modelo de regresión en el esquema ilustrativo de la red neuronal. "
   ]
  },
  {
   "cell_type": "markdown",
   "metadata": {},
   "source": [
    "Si se tiene un conjunto de ejemplos, el proceso de entrenamiento consiste en encontrar los parámetros de la red neuronal ($b_1[h]$, $b_2$, $w_1[i,h]$, $w_2[h,1]$, para $h$ = 1, ..., H, y $i$ = 1, ..., $I$), tal que se minimice alguna medida de error, tal como en el caso de la regresión lineal."
   ]
  },
  {
   "cell_type": "markdown",
   "metadata": {},
   "source": [
    "---"
   ]
  },
  {
   "cell_type": "markdown",
   "metadata": {
    "slideshow": {
     "slide_type": "slide"
    }
   },
   "source": [
    "Arboles de Decisión\n",
    "===\n",
    "\n",
    "**Juan David Velásquez Henao**  \n",
    "jdvelasq@unal.edu.co   \n",
    "Universidad Nacional de Colombia, Sede Medellín  \n",
    "Facultad de Minas  \n",
    "Medellín, Colombia\n",
    "\n",
    "---\n",
    "\n",
    "Haga click [aquí](https://github.com/jdvelasq/statistics-for-analytics/tree/master/) para acceder al repositorio online.\n",
    "\n",
    "Haga click [aquí](http://nbviewer.jupyter.org/github/jdvelasq/statistics-for-analytics/tree/master/) para explorar el repositorio usando `nbviewer`. "
   ]
  }
 ],
 "metadata": {
  "kernel_info": {
   "name": "python3"
  },
  "kernelspec": {
   "display_name": "Python 3",
   "language": "python",
   "name": "python3"
  },
  "language_info": {
   "codemirror_mode": {
    "name": "ipython",
    "version": 3
   },
   "file_extension": ".py",
   "mimetype": "text/x-python",
   "name": "python",
   "nbconvert_exporter": "python",
   "pygments_lexer": "ipython3",
   "version": "3.6.4"
  },
  "nteract": {
   "version": "0.7.1"
  },
  "varInspector": {
   "cols": {
    "lenName": 16,
    "lenType": 16,
    "lenVar": 40
   },
   "kernels_config": {
    "python": {
     "delete_cmd_postfix": "",
     "delete_cmd_prefix": "del ",
     "library": "var_list.py",
     "varRefreshCmd": "print(var_dic_list())"
    },
    "r": {
     "delete_cmd_postfix": ") ",
     "delete_cmd_prefix": "rm(",
     "library": "var_list.r",
     "varRefreshCmd": "cat(var_dic_list()) "
    }
   },
   "types_to_exclude": [
    "module",
    "function",
    "builtin_function_or_method",
    "instance",
    "_Feature"
   ],
   "window_display": false
  }
 },
 "nbformat": 4,
 "nbformat_minor": 2
}
