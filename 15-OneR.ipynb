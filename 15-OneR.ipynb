{
 "cells": [
  {
   "cell_type": "markdown",
   "metadata": {},
   "source": [
    "Inducción de Reglas\n",
    "===\n",
    "\n",
    "**Juan David Velásquez Henao**  \n",
    "jdvelasq@unal.edu.co   \n",
    "Universidad Nacional de Colombia, Sede Medellín  \n",
    "Facultad de Minas  \n",
    "Medellín, Colombia\n",
    "\n",
    "---\n",
    "\n",
    "Haga click [aquí](https://github.com/jdvelasq/statistics-for-analytics/tree/master/) para acceder al repositorio online.\n",
    "\n",
    "Haga click [aquí](http://nbviewer.jupyter.org/github/jdvelasq/statistics-for-analytics/tree/master/) para explorar el repositorio usando `nbviewer`. "
   ]
  },
  {
   "cell_type": "markdown",
   "metadata": {},
   "source": [
    "# Definición del problema real"
   ]
  },
  {
   "cell_type": "markdown",
   "metadata": {},
   "source": [
    "Se desea determinar a cuál clase ($A$, $B$ o $C$) pertenece un elemento, a partir de resultados previamente recolectados."
   ]
  },
  {
   "cell_type": "markdown",
   "metadata": {},
   "source": [
    "# Definición del problema en términos de los datos"
   ]
  },
  {
   "cell_type": "markdown",
   "metadata": {},
   "source": [
    "Se tiene un conjunto de 15 ejemplos para los cuales se tienen tres características $x_1$, $x_2$ y $x_3$ y su respectiva clase. Se desea determinar a que clase pertenece un nuevo punto con coordenadas $x_1$, $x_2$ y $x_3$.\n",
    "\n",
    "     #   x1   x2   x3    y  \n",
    "    ------------------------\n",
    "     1    a    g    h    A\n",
    "     2    a    e    i    A\n",
    "     3    a    f    h    A\n",
    "     4    d    f    j    A\n",
    "     5    d    g    j    A\n",
    "     6    b    e    i    B \n",
    "     7    b    f    i    B\n",
    "     8    b    f    i    B\n",
    "     9    c    g    h    B\n",
    "    10    c    g    h    B\n",
    "    11    a    e    i    C\n",
    "    12    b    g    j    C\n",
    "    13    c    f    j    C\n",
    "    14    c    g    h    C\n",
    "    15    c    e    i    C"
   ]
  },
  {
   "cell_type": "markdown",
   "metadata": {},
   "source": [
    "# Reglas de asociación para clasificación"
   ]
  },
  {
   "cell_type": "markdown",
   "metadata": {},
   "source": [
    "La metodología 1R se basa en la partición del espacio de entrada usando una y sólo una de las variables (atributos) del problema. Para el problema planteado, una regla basada en el atributo `x1` podría ser:\n",
    "\n",
    "    if x1 in {a, d}:  y = A\n",
    "    if x1 in {b}:     y = B\n",
    "    if x1 in {c}:     y = C\n"
   ]
  },
  {
   "cell_type": "markdown",
   "metadata": {},
   "source": [
    "El algoritmo funciona de la siguiente forma: se toma el primer atributo $x_1$ y se divide en grupos por cada  valor que puede tomar dicho atributo, es decir, por `a`, `b`, `c`, `flat` y `d`; para cada atributo se cuentan cuántos ejemplos hay de cada categoría y se asigna la clase por mayoría, esto es, si hay cuatro ejemplos para la categoría `a` de $x_1$ y tres de ellos pertencen a la clase `A` y el restante a `C` se dice que `if x1 == a: y = A`. Así, el clasificador basado en este atributo podría ser:\n",
    "\n",
    "    if x1 == a:  y = A\n",
    "    if x1 == b:  y = B\n",
    "    if x1 == c:  y = C\n",
    "    if x1 == d:  y = A\n",
    "    \n",
    "       \n",
    "Al agrupar por $x_1$, este conjunto de reglas se reescribe como:\n",
    "\n",
    "    if x1 in {a, d}:\n",
    "        y = A\n",
    "    elif x1 in {b}:\n",
    "        y = B\n",
    "    else:\n",
    "        y = C\n",
    "        \n",
    "Para el clasificador anterior se puede calcular una métrica de error.\n",
    "\n",
    "Luego se toma el segundo atributo $x_2$ y se procede de igual forma para construir otro clasificador. El proceso se repite hasta obtener un clasificador por cada atributo. Se escoge el clasificador con mayor precisión."
   ]
  },
  {
   "cell_type": "markdown",
   "metadata": {},
   "source": [
    "---\n",
    "**Ejercicio.--** Para el ejemplo planteado, escriba las reglas para los clasificadores para los demás atributos.\n",
    "\n",
    "**Ejercicio.** ¿Cómo se adapta el algoritmo anterior para variables continuas?"
   ]
  },
  {
   "cell_type": "markdown",
   "metadata": {},
   "source": [
    "---"
   ]
  },
  {
   "cell_type": "markdown",
   "metadata": {},
   "source": [
    "Inducción de Reglas\n",
    "===\n",
    "\n",
    "**Juan David Velásquez Henao**  \n",
    "jdvelasq@unal.edu.co   \n",
    "Universidad Nacional de Colombia, Sede Medellín  \n",
    "Facultad de Minas  \n",
    "Medellín, Colombia\n",
    "\n",
    "---\n",
    "\n",
    "Haga click [aquí](https://github.com/jdvelasq/statistics-for-analytics/tree/master/) para acceder al repositorio online.\n",
    "\n",
    "Haga click [aquí](http://nbviewer.jupyter.org/github/jdvelasq/statistics-for-analytics/tree/master/) para explorar el repositorio usando `nbviewer`. "
   ]
  }
 ],
 "metadata": {
  "kernel_info": {
   "name": "python3"
  },
  "kernelspec": {
   "display_name": "Python 3",
   "language": "python",
   "name": "python3"
  },
  "language_info": {
   "codemirror_mode": {
    "name": "ipython",
    "version": 3
   },
   "file_extension": ".py",
   "mimetype": "text/x-python",
   "name": "python",
   "nbconvert_exporter": "python",
   "pygments_lexer": "ipython3",
   "version": "3.6.4"
  },
  "nteract": {
   "version": "0.7.1"
  },
  "varInspector": {
   "cols": {
    "lenName": 16,
    "lenType": 16,
    "lenVar": 40
   },
   "kernels_config": {
    "python": {
     "delete_cmd_postfix": "",
     "delete_cmd_prefix": "del ",
     "library": "var_list.py",
     "varRefreshCmd": "print(var_dic_list())"
    },
    "r": {
     "delete_cmd_postfix": ") ",
     "delete_cmd_prefix": "rm(",
     "library": "var_list.r",
     "varRefreshCmd": "cat(var_dic_list()) "
    }
   },
   "types_to_exclude": [
    "module",
    "function",
    "builtin_function_or_method",
    "instance",
    "_Feature"
   ],
   "window_display": false
  }
 },
 "nbformat": 4,
 "nbformat_minor": 2
}
