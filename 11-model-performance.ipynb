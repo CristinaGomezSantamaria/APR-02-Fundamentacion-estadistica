{
 "cells": [
  {
   "cell_type": "markdown",
   "metadata": {
    "slideshow": {
     "slide_type": "slide"
    }
   },
   "source": [
    "Análisis del desempeño de modelos\n",
    "===\n",
    "\n",
    "**Juan David Velásquez Henao**  \n",
    "jdvelasq@unal.edu.co   \n",
    "Universidad Nacional de Colombia, Sede Medellín  \n",
    "Facultad de Minas  \n",
    "Medellín, Colombia\n"
   ]
  },
  {
   "cell_type": "markdown",
   "metadata": {},
   "source": [
    "---"
   ]
  },
  {
   "cell_type": "markdown",
   "metadata": {
    "slideshow": {
     "slide_type": "slide"
    }
   },
   "source": [
    "# Conceptos Básicos"
   ]
  },
  {
   "cell_type": "markdown",
   "metadata": {},
   "source": [
    "<img src=\"images/model-performance/poblacion.jpg\" width=600>"
   ]
  },
  {
   "cell_type": "markdown",
   "metadata": {},
   "source": [
    "**Población:** Colección de objetos o individuos sobre los cuales se desea obtener información de interés."
   ]
  },
  {
   "cell_type": "markdown",
   "metadata": {},
   "source": [
    "**Parámetro:** Un número que resume una propiedad o característica de la población entera. "
   ]
  },
  {
   "cell_type": "markdown",
   "metadata": {},
   "source": [
    "**Muestreo aleatorio:** Muestreo de elementos de forma aleatoria tal que cada miembro de la población tiene igual probabilidad de ser seleccionado para la muestra."
   ]
  },
  {
   "cell_type": "markdown",
   "metadata": {},
   "source": [
    "**Muestreo con reemplazo:** Cada observación es devuelta a la población después de ser seleccionada."
   ]
  },
  {
   "cell_type": "markdown",
   "metadata": {},
   "source": [
    "**Muestreo sin reemplazo:** Cuando una observación es seleccionada ya no está disponible en adelante. "
   ]
  },
  {
   "cell_type": "markdown",
   "metadata": {},
   "source": [
    "**Muestra:** Grupo obtenido aleatoriamente que es representativo de la población."
   ]
  },
  {
   "cell_type": "markdown",
   "metadata": {},
   "source": [
    "**Muestreo estratificado:** División de la población en estratos y muestreo aleatorio de cada estrato."
   ]
  },
  {
   "cell_type": "markdown",
   "metadata": {},
   "source": [
    "**Ejercicio.--** Explique en que situaciones se requiere el muestreo estratificado."
   ]
  },
  {
   "cell_type": "markdown",
   "metadata": {},
   "source": [
    "**Muestra aleatoria simple:** Muestra que resulta de muestrear la población sin estratificar."
   ]
  },
  {
   "cell_type": "markdown",
   "metadata": {},
   "source": [
    "**Muestra sesgada:** Muestra que no representa la población."
   ]
  },
  {
   "cell_type": "markdown",
   "metadata": {},
   "source": [
    "**Sesgo estadístico:** Errores de muestreo o medición que son sistemáticos y producidos por la medición o el muestreo mismo."
   ]
  },
  {
   "cell_type": "markdown",
   "metadata": {},
   "source": [
    "---\n",
    "**Ejercicio.--** Explique la diferencia entre un error aleatorio y un error debido a un sesgo.\n",
    "\n",
    "---"
   ]
  },
  {
   "cell_type": "markdown",
   "metadata": {},
   "source": [
    "**Estadístico:** Un número que resume una propiedad o característica de la muestra. "
   ]
  },
  {
   "cell_type": "markdown",
   "metadata": {},
   "source": [
    "Uno de los objetivos fundamentales en estadística es estimar el valor de un parámetro de la población mediante un estadístico calculado sobre la muesta. Para ello, existen dos aproximaciones:\n",
    "\n",
    "* Estimación de intervalos de confianza.\n",
    "\n",
    "* Pruebas de hipótesis."
   ]
  },
  {
   "cell_type": "markdown",
   "metadata": {},
   "source": [
    "# Distribución muestral de un estadístico"
   ]
  },
  {
   "cell_type": "markdown",
   "metadata": {},
   "source": [
    "**Estadístico muestral:** Una métrica calculada para una muestra de datos obtenida de forma aleatoria de la población."
   ]
  },
  {
   "cell_type": "markdown",
   "metadata": {},
   "source": [
    "**Distribución muestral:** Es la distribución de probabilidad de un estadístico muestral calculado sobre muchas muestras o remuestreos"
   ]
  },
  {
   "cell_type": "markdown",
   "metadata": {},
   "source": [
    "**Error estándar:** Es la desviación estándar del estadístico muestral sobre muchas muestras."
   ]
  },
  {
   "cell_type": "markdown",
   "metadata": {},
   "source": [
    "# Intervalos de confianza"
   ]
  },
  {
   "cell_type": "markdown",
   "metadata": {},
   "source": [
    "Ya que el estadístico $\\theta$ es una aproximación al valor real del parámetro $\\Theta$ de la población, se establece un intervalo de confianza, tal que:\n",
    "\n",
    "$$\\theta_L < \\theta < \\theta_U$$ \n",
    "\n",
    "en que se cree se encuentra el verdadero valor del parámetro de la población $\\Theta$. Usualmente, se plantea en términos del márgen de error (y un intervalo de confianza):\n",
    "\n",
    "$$\\text{Estadístico}  \\pm \\text{error}$$"
   ]
  },
  {
   "cell_type": "markdown",
   "metadata": {},
   "source": [
    "# Teorema del Límite Central"
   ]
  },
  {
   "cell_type": "markdown",
   "metadata": {},
   "source": [
    "Si $x_1$, ..., $x_n$ es una muestra aleatoria donde las observaciones $x_i$ son independientes e identicamente distribuidas de una distribución con media $\\mu$ y varianza finita $\\sigma^2$, entonces:\n",
    "\n",
    "$$\\bar{x} = \\frac{1}{n} \\sum_{i=1}^n x_i$$\n",
    "\n",
    "sigue una distribución normal con media $\\mu$ y varianza $(\\sigma_{\\bar{x}})^2 = \\sigma^2 / n$.\n",
    "\n",
    "Note que no se hace ningún supuesto sobre la distribución que siguen las observaciones $x_i$"
   ]
  },
  {
   "cell_type": "markdown",
   "metadata": {},
   "source": [
    "---\n",
    "**Ejercicio.--** Genere una muestra de 15 números aleatorios uniformes en el intervalo $[0, 5]$ y calcule su media. Repita el ejercicio 500 veces y grafique el histograma de las medias. Encima grafique la distribución normal teórica y compare.\n",
    "\n",
    "---"
   ]
  },
  {
   "cell_type": "markdown",
   "metadata": {},
   "source": [
    "# Bootstrapping"
   ]
  },
  {
   "cell_type": "markdown",
   "metadata": {},
   "source": [
    "El bootstrap se usa cuando no es posible derivar ecuaciones que permitan aproximar la distribución de probabilidades de un estadístico. El bootstrap se basa en el remuestreo de los datos para poder obtener una muestra del estadístico que se está calculado. \n",
    "\n",
    "Supoga que tiene una muestra de ocho ejemplos:\n",
    "\n",
    "$$\\{x_1, x_2, x_3, x_4, x_5, x_6, x_7, x_8\\}$$\n",
    "\n",
    "Una muestra bootstap se obtiene de la muestra original, seleccionando ocho elementos de forma aleatoria con reemplazo. Por ejemplo, una muestra bootstrap podría ser:\n",
    "\n",
    "$$\\{x_1, x_2, x_2, x_2, x_4, x_1, x_7, x_7\\}$$\n",
    "\n",
    "Nóte que los elementos pueden repetirse. Sobre cada muestra bootstrap obtenida, se realiza el proceso de cómputo y se obtiene el estadístico de interés. Si este procedimiento se repite 500 veces para calcular el estadístico de interés, se tenddrían 500 valores posibles de éste. Así, una estimación mucho mejor del valor del estadístico, sería calcular su valor promedio a partir de la muestra de 500 valores. Más aún, podría calcularse el histograma o la distribución de probabilidades de dicho estadístico, lo cual es mucho más informativo."
   ]
  },
  {
   "cell_type": "markdown",
   "metadata": {},
   "source": [
    "---\n",
    "**Ejercicio.--** Se tiene la siguiente muestra de datos:\n",
    "\n",
    "    0.09 0.15 0.18 0.23 0.35 0.49 0.68 0.71 0.85 0.96 0.98\n",
    "    \n",
    "    \n",
    "Compute la media y sus intervalos de confianza usando el Teorema del Límite Central y bootstrap con 500 repeticiones.\n",
    "\n",
    "---"
   ]
  },
  {
   "cell_type": "markdown",
   "metadata": {},
   "source": [
    "**Algoritmo bootstrap no paramétrico**\n",
    "\n",
    "* Se tiene la muestra $x=\\{x_i; 1,...,n\\}$\n",
    "\n",
    "\n",
    "* Se seleccionan $B$ muestras bootstrap independientes $x^{*1}, ..., x^{*B}$ cada una de $n$ elementos obtenidos de la muestra original.\n",
    "\n",
    "\n",
    "* Para cada muestra bootstap se calcula el estadístico de interes: $\\theta(b) = t(x^{*b})$\n",
    "\n",
    "\n",
    "* La muestra $\\theta(1), ..., \\theta(B)$ representa la distribución de probabilidades de $\\theta$ y puede calcularsele valor esperado, desviación estándar, etc."
   ]
  },
  {
   "cell_type": "markdown",
   "metadata": {},
   "source": [
    "* El error estándar se puede calcular como:\n",
    "\n",
    "$$\\text{se}_B = \\left\\{\n",
    "\\frac{1}{B-1} \\sum_{b=1}^B \\left[\\theta(b) - \\bar{\\theta}(\\bullet) \\right]^2\n",
    "\\right\\}^{(1/2)}$$\n",
    "\n",
    "$$\n",
    "\\bar{\\theta}(\\bullet) = \\frac{1}{B} \\sum_{b=1}^B \\theta (b)$$"
   ]
  },
  {
   "cell_type": "markdown",
   "metadata": {},
   "source": [
    "# Jackknife"
   ]
  },
  {
   "cell_type": "markdown",
   "metadata": {},
   "source": [
    "Se obtiene al dejar un solo elemento fuera de la muestra de datos.\n",
    "\n",
    "\n",
    "* Se tiene la muestra $x=\\{x_i; 1,...,n\\}$\n",
    "\n",
    "\n",
    "* Se calcula el estadístico de interes: $\\theta(b) = t(x)$\n",
    "\n",
    "\n",
    "* Se obtienen $n$ muestras jackknife $x_{(i)}$, $i=1, ...,n$, donde:\n",
    "\n",
    "$$x_{(i)} = (x_1, \\; x_2, \\; ..., \\; x_{i-1}, \\; x_{i+1}, \\; ..., \\; x_n)$$\n",
    "\n",
    "\n",
    "* Se calcula el estadístico para la muestra jackknife:\n",
    "\n",
    "$$\\theta_{(i)} = t(x_{(i)})$$\n",
    "\n",
    "\n",
    "* El error estándar se obtiene como:\n",
    "\n",
    "$$\\text{se}_{\\text{jack}} = \\left\\{\n",
    "\\frac{n-1}{n} \\sum_{i=1}^n \\left[   \\theta_{(i)} - \\theta_{(\\bullet)}  \\right]^2\n",
    "\\right\\}^{1/2}$$\n",
    "\n",
    "$$\n",
    "\\bar{\\theta}(\\bullet) = \\frac{1}{n} \\sum_{i=1}^n \\theta_{(i)}$$"
   ]
  },
  {
   "cell_type": "markdown",
   "metadata": {},
   "source": [
    "# Partición de los datos"
   ]
  },
  {
   "cell_type": "markdown",
   "metadata": {},
   "source": [
    "Los resultados de la evaluación de los modelos es dependiente de los datos usados. En la práctica, los datos se suelen partir en tres conjuntos, tal como muestra la gráfica de abajo:\n",
    "\n",
    "\n",
    "* Conjunto de calibración de parámetros del modelo.\n",
    "\n",
    "\n",
    "* Conjunto de prueba, usado comunmente para determinar la complejidad del modelo o el valor óptimo de alguno de sus parámetros.\n",
    "\n",
    "\n",
    "* Conjunto de pronóstico, en el que se intenta reproducir el comportamiento del modelo en producción."
   ]
  },
  {
   "cell_type": "markdown",
   "metadata": {},
   "source": [
    "![alt text](images/model-performance/data-partition.jpg)"
   ]
  },
  {
   "cell_type": "markdown",
   "metadata": {},
   "source": [
    "En la figura anterior, los datos se dividen secuencialmente, pero podría construirse cada conjunto aletaoriamente. Si se tiene en cuenta que hay muchas particiones aleatorias posibles, una mejor estimación de la matriz de confusión (o cualquier otro estadístico que se calcule para un conjunto de datos) podría ser tomando los valores esperados de cada métrica. Es decir, si se repite el experimento $N$ veces, se tendrían $N$ valores posibles para cada uno de los elementos de la matriz de confusión y por lo tanto se podría tener su valor medio. Esta sería una métrica mucho más apropiada. A continuación se describen varios mecanismos para gestionar la forma en que los datos son particionados."
   ]
  },
  {
   "cell_type": "markdown",
   "metadata": {},
   "source": [
    "## Bootstrap"
   ]
  },
  {
   "cell_type": "markdown",
   "metadata": {},
   "source": [
    "En la práctica resulta inapropiado para modelos con un alto costo computacional, ya que el bootstrap requiere un número grande de réplicas para garantizar la precisión de sus resultados."
   ]
  },
  {
   "cell_type": "markdown",
   "metadata": {},
   "source": [
    "## K-fold crossvalidation"
   ]
  },
  {
   "cell_type": "markdown",
   "metadata": {},
   "source": [
    "En este método, el conjunto de datos para entrenamiento (ajuste + prueba) es dividido en $K$ grupos. Este es un proceso iterativo que opera de la siguiente forma (véase la figura de abajo). \n",
    "\n",
    "\n",
    "* Se toma el grupo 1 como conjunto de datos de prueba (grupo rojo) y se entrena el modelo con los grupos restantes {2, ..., $K$} (grupo negro).\n",
    "\n",
    "\n",
    "* Se toma el grupo 2 como conjunto de datos de prueba (grupo rojo) y se entrena el modelo con los grupos restantes {1, 3, ..., $K$} (grupo negro).\n",
    "\n",
    "\n",
    "* Se continua de esta forma hasta que se usa el grupo $K$ para prueba, mientras que se usan los grupos 1 hasta $K$-1 para entrenamiento."
   ]
  },
  {
   "cell_type": "markdown",
   "metadata": {},
   "source": [
    "![alt text](images/model-performance/k-fold-crossval.jpg)"
   ]
  },
  {
   "cell_type": "markdown",
   "metadata": {},
   "source": [
    "De esta forma, se tienen $K$ valores posibles para el estadístico de interés. Usualmente se reporta su valor promedio.\n",
    "\n",
    "Note que una mejor opción sería distribuir los datos en cada grupo de forma aleatoria en vez de tomarlos secuencialmente."
   ]
  },
  {
   "cell_type": "markdown",
   "metadata": {},
   "source": [
    "## Leave-one-out"
   ]
  },
  {
   "cell_type": "markdown",
   "metadata": {},
   "source": [
    "Este es el K-fold con $K$ igual a la cantidad de datos, tal como se ilustra en la figura de abajo. El método opera igual que *K-fold crossvalidation*, pero dejando un patrón fuera cada vez."
   ]
  },
  {
   "cell_type": "markdown",
   "metadata": {},
   "source": [
    "![alt text](images/model-performance/leave-one-out.jpg)"
   ]
  },
  {
   "cell_type": "markdown",
   "metadata": {},
   "source": [
    "# Afinación de los parámetros de modelos"
   ]
  },
  {
   "cell_type": "markdown",
   "metadata": {},
   "source": [
    "Como ya se discutio, un modelo puede tener un conjunto de parámetros ajustables para su especificación. La afinación consiste en calcular las métricas de desempeño del modelo para diferentes valores de sus parámetros de forma similar a como se realizaría si fuese un diseño de experimentos. \n",
    "\n",
    "Supóngase que el modelo $m$ tiene dos parámetros ajustables $A$ y $B$; y que ellos pueden tomar los valores posibles de $A_1$, $A_2$ y $A_3$, y de $B_1$ y $B_2$ respectivamente. En el proceso de afinación de los parámetros se estima el modelo y se eválua su desempeño para las siguientes combinaciones de valore para los parámetros ajustables: ($A_1$, $B_1$), ($A_1$, $B_2$), ($A_2$, $B_1$), ($A_2$, $B_2$), ($A_3$, $B_1$) y  ($A_3$, $B_2$). \n",
    "\n",
    "Ya que para cada combinación ($A_i$, $B_j$), el valor del estadístico usado para medir el desempeño es dependiente de la partición de los datos, su valor es estimado usando bootstrap o k-fold crossvalidation. "
   ]
  },
  {
   "cell_type": "markdown",
   "metadata": {},
   "source": [
    "---"
   ]
  },
  {
   "cell_type": "markdown",
   "metadata": {
    "slideshow": {
     "slide_type": "slide"
    }
   },
   "source": [
    "Análisis del desempeño de modelos\n",
    "===\n",
    "\n",
    "**Juan David Velásquez Henao**  \n",
    "jdvelasq@unal.edu.co   \n",
    "Universidad Nacional de Colombia, Sede Medellín  \n",
    "Facultad de Minas  \n",
    "Medellín, Colombia\n"
   ]
  }
 ],
 "metadata": {
  "kernel_info": {
   "name": "python3"
  },
  "kernelspec": {
   "display_name": "Python 3",
   "language": "python",
   "name": "python3"
  },
  "language_info": {
   "codemirror_mode": {
    "name": "ipython",
    "version": 3
   },
   "file_extension": ".py",
   "mimetype": "text/x-python",
   "name": "python",
   "nbconvert_exporter": "python",
   "pygments_lexer": "ipython3",
   "version": "3.6.4"
  },
  "nteract": {
   "version": "0.7.1"
  },
  "varInspector": {
   "cols": {
    "lenName": 16,
    "lenType": 16,
    "lenVar": 40
   },
   "kernels_config": {
    "python": {
     "delete_cmd_postfix": "",
     "delete_cmd_prefix": "del ",
     "library": "var_list.py",
     "varRefreshCmd": "print(var_dic_list())"
    },
    "r": {
     "delete_cmd_postfix": ") ",
     "delete_cmd_prefix": "rm(",
     "library": "var_list.r",
     "varRefreshCmd": "cat(var_dic_list()) "
    }
   },
   "types_to_exclude": [
    "module",
    "function",
    "builtin_function_or_method",
    "instance",
    "_Feature"
   ],
   "window_display": false
  }
 },
 "nbformat": 4,
 "nbformat_minor": 2
}
