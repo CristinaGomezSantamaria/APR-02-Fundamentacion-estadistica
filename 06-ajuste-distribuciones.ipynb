{
 "cells": [
  {
   "cell_type": "markdown",
   "metadata": {
    "slideshow": {
     "slide_type": "slide"
    }
   },
   "source": [
    "Ajuste de Distribuciones\n",
    "===\n",
    "\n",
    "**Juan David Velásquez Henao**  \n",
    "jdvelasq@unal.edu.co   \n",
    "Universidad Nacional de Colombia, Sede Medellín  \n",
    "Facultad de Minas  \n",
    "Medellín, Colombia\n",
    "\n",
    "---\n",
    "\n",
    "Haga click [aquí](https://github.com/jdvelasq/statistics-for-analytics/tree/master/) para acceder al repositorio online.\n",
    "\n",
    "Haga click [aquí](http://nbviewer.jupyter.org/github/jdvelasq/statistics-for-analytics/tree/master/) para explorar el repositorio usando `nbviewer`. "
   ]
  },
  {
   "cell_type": "markdown",
   "metadata": {},
   "source": [
    "---"
   ]
  },
  {
   "cell_type": "markdown",
   "metadata": {},
   "source": [
    "# Definición"
   ]
  },
  {
   "cell_type": "markdown",
   "metadata": {},
   "source": [
    "En la siguiente gráfica se presenta un conjunto de datos (histograma) y dos posibles distribuciones teóricas de probabilidad. El problema consiste en determinar cual es la distribución teórica que mejor se ajuste a la distribución de una muestra de datos."
   ]
  },
  {
   "cell_type": "markdown",
   "metadata": {},
   "source": [
    "![fit-dist](images/ajuste-distribuciones/fit-dist.jpg)"
   ]
  },
  {
   "cell_type": "markdown",
   "metadata": {},
   "source": [
    "De esta forma, el problema se puede dividir en tres pasos:\n",
    "\n",
    "* Escoger un conjunto de modelos teóricos posibles para los datos.\n",
    "* Estimar los parámetros para cada modelo teórico considerado.\n",
    "* Determinar cuál es el modelo más apropiado para los datos."
   ]
  },
  {
   "cell_type": "markdown",
   "metadata": {},
   "source": [
    "**Paso 1.--** El primer paso se basa comparar las propiedades del histograma o la distribución empírica de los datos (media, varianza, asimetría y curtosis) versus las propiedades conocidas de las diferentes distribuciones teóricas de probabilidad. Por ejemplo, una distribución normal no sería adecuada si el histograma de los datos es asimétrico; y una distribución lognormal no sería adecuada si el histograma de los datos es simétrico. "
   ]
  },
  {
   "cell_type": "markdown",
   "metadata": {},
   "source": [
    "**Paso 2.--** El segundo paso consiste en estimar los parámetros de cada distribución dados los datos. "
   ]
  },
  {
   "cell_type": "markdown",
   "metadata": {},
   "source": [
    "**Estimación por mínimos cuadrados ordinarios.** Sea $\\{y_1, y_2, ..., y_n \\}$ la muestra $\\{x_1, x_2,...,x_n\\}$ ordenada de menor a mayo. La probabilidad empírica acumulada es:\n",
    "\n",
    "$$F_e(y_i) = \\frac{i}{n}$$\n",
    "\n",
    "En este caso se busca minimizar el error cuadrático medio entre la distribución teórica y la empírica variando los parámetros $\\theta_k$ de la distribución:\n",
    "\n",
    "$$\\text{SSE} = \\sum_{i=1}^n \\left[ F(y_i) - F_e (y_i) \\right]^2 $$"
   ]
  },
  {
   "cell_type": "markdown",
   "metadata": {},
   "source": [
    "**Prueba de la bondad de ajuste.** En este caso se supone que los datos provienen de cierta distribución teórica. Las hipótesis son las siguientes:\n",
    "\n",
    "* $H_0$: La muestra proviene de la distribución teórica considerada.\n",
    "* $H_a$: La muestra no proviene de dicha distribución.\n",
    "\n",
    "Para la muestra aleatoria $\\{x_1, ..., x_n\\}$ se procede de la siguiente manera:\n",
    "\n",
    "* Se hace un histograma de $k$ intervalos y se calcula la cantidad $N_j$, con $j=1,...,k$, de valores $x_i$, $i=1,...,n$, en cada intervalo.\n",
    "\n",
    "* Se calcula la cantidad teórica de valores en cada intervalo como $n \\; p_j$, donde $p_j$ es la función de densidad de probabilidad del interavalo.\n",
    "\n",
    "* Se realiza la prueba con el estadístico:\n",
    "\n",
    "$$T = \\sum_{j=1}^k \\frac{(N_j - n \\; p_j)^2}{n \\; p_j} \\quad \\sim \\quad \\chi_{m-1}^2$$\n",
    "\n",
    "donde $m$ es la cantidad de parámetros estimados de la distribución."
   ]
  },
  {
   "cell_type": "markdown",
   "metadata": {},
   "source": [
    "**Estimación por máxima verosimitud.** A continuación se presenta el caso de estimación por máxima verosimilitud; en este caso se responde la siguiente pregunta: ¿Cuáles son los parámetros de la distribucion considerada para que se maximice la probabilidad de que los datos provengan de ella?."
   ]
  },
  {
   "cell_type": "markdown",
   "metadata": {},
   "source": [
    "Si se tiene un conjunto de datos $x_1$, $x_2$, ..., $x_n$, la verosimilitud se define como:\n",
    "\n",
    "$$L(x_1, x_2, ..., x_n \\;|\\; \\theta_1, \\theta_2,...) = \\prod_{i=1}^n f(x_i \\;|\\; \\theta_1, \\theta_2, ...)$$\n",
    "\n",
    "donde $\\theta_1$, $\\theta_2$, ... son los parámetros desconocidos de la distribución."
   ]
  },
  {
   "cell_type": "markdown",
   "metadata": {},
   "source": [
    "Por facilidad, se acostumbra usar el $\\log$ de la verosimilitud:\n",
    "\n",
    "$$\\log \\; L(x_1, x_2, ..., x_n \\;|\\; \\theta_1, \\theta_2,...) = \\sum_{i=1}^n \\log \\; f(x_i \\;|\\; \\theta_1, \\theta_2, ...)$$"
   ]
  },
  {
   "cell_type": "markdown",
   "metadata": {},
   "source": [
    "El problema se reducen en encontrar el conjunto de parámetros $\\theta_1$, $\\theta_2$, ... que maximizan el $\\log \\; L$."
   ]
  },
  {
   "cell_type": "markdown",
   "metadata": {},
   "source": [
    "**Ejemplo.--** La función de densidad de probabilidad de la distribución normal es:\n",
    "\n",
    "$$f(x_i \\; | \\; \\mu, \\sigma^2) =\\frac{1}{\\sigma \\sqrt{2\\pi}} \\exp \\left\\{ -\\frac{1}{2} \\frac{(x_i-\\mu)^2}{\\sigma^2} \\right\\}$$\n",
    "\n",
    "donde los puntos $x_i$ son conocidos y los valores de $\\mu$ y $\\sigma^2$ son desconocidos. Consecuentemente,\n",
    "\n",
    "$$\\log \\; L(x_1, x_2, ..., x_n \\;|\\; \\mu, \\sigma^2) = \\sum_{i=1}^n \\log \\; f(x_i \\;|\\; \\mu, \\sigma^2)$$"
   ]
  },
  {
   "cell_type": "markdown",
   "metadata": {},
   "source": [
    "Con un poco de matemática es posible demostrar que la mejor estimación de los valores se obtiene con:\n",
    "\n",
    "$$\\mu = \\frac{1}{n} \\sum_{i=1}^n x_i$$ \n",
    "\n",
    "$$\\sigma^2 = \\sum_{i=1}^n \\frac{1}{n} (x_i - \\mu)^2$$"
   ]
  },
  {
   "cell_type": "markdown",
   "metadata": {},
   "source": [
    "El procedimiento es similar para otras distribuciones de probabilidad."
   ]
  },
  {
   "cell_type": "markdown",
   "metadata": {},
   "source": [
    "**Paso 3.--** El tercer paso consiste en seleccionar la distribución que mejor se ajusta a los datos. Para ello, se utiliza el criterio de Akaike:\n",
    "\n",
    "$$\\text{AIC} = 2k - 2 \\log \\;L $$\n",
    "\n",
    "donde: $k$ es la cantidad de parámetros a estimar de la distribución y $\\log\\; L$ es el logaritmo natural de la verosimilitud. Se selecciona la distribución con el menor valor del criterio de Akaike."
   ]
  },
  {
   "cell_type": "markdown",
   "metadata": {},
   "source": [
    "**Ejercicio.--** Ejemplifique el procedimiento de ajuste para la muestra de datos presentada a continuación, si se consideran como distribuciones posibles la normal y la lognormal.\n",
    "\n",
    "    2.1354  1.4172  3.4028  0.1756  0.6383 \n",
    "    4.8346  3.1612  3.9591  1.3108  0.3740 \n",
    "    1.0227  1.0721  0.3059  3.1502  0.3482 \n",
    "    0.6974  7.0370  0.6394  0.1185  1.1985 \n",
    "    0.2976  0.7173  0.7754  0.4162  2.0598 \n",
    "    0.5444  4.4360  0.3669  1.0241  2.3115 \n",
    "    0.2302  1.8033  0.7637  0.7311  0.3841  \n",
    "    7.6613  6.1364  0.8387  0.8977  0.2882 \n",
    "    2.2553  0.6730  1.6091  0.5886  0.1958 \n",
    "    0.6136  0.9225  0.1875  1.2280  2.4042 "
   ]
  },
  {
   "cell_type": "markdown",
   "metadata": {},
   "source": [
    "---"
   ]
  },
  {
   "cell_type": "markdown",
   "metadata": {
    "slideshow": {
     "slide_type": "slide"
    }
   },
   "source": [
    "Ajuste de Distribuciones\n",
    "===\n",
    "\n",
    "**Juan David Velásquez Henao**  \n",
    "jdvelasq@unal.edu.co   \n",
    "Universidad Nacional de Colombia, Sede Medellín  \n",
    "Facultad de Minas  \n",
    "Medellín, Colombia\n",
    "\n",
    "---\n",
    "\n",
    "Haga click [aquí](https://github.com/jdvelasq/statistics-for-analytics/tree/master/) para acceder al repositorio online.\n",
    "\n",
    "Haga click [aquí](http://nbviewer.jupyter.org/github/jdvelasq/statistics-for-analytics/tree/master/) para explorar el repositorio usando `nbviewer`. "
   ]
  }
 ],
 "metadata": {
  "kernel_info": {
   "name": "python3"
  },
  "kernelspec": {
   "display_name": "Python 3",
   "language": "python",
   "name": "python3"
  },
  "language_info": {
   "codemirror_mode": {
    "name": "ipython",
    "version": 3
   },
   "file_extension": ".py",
   "mimetype": "text/x-python",
   "name": "python",
   "nbconvert_exporter": "python",
   "pygments_lexer": "ipython3",
   "version": "3.6.4"
  },
  "nteract": {
   "version": "0.7.1"
  },
  "varInspector": {
   "cols": {
    "lenName": 16,
    "lenType": 16,
    "lenVar": 40
   },
   "kernels_config": {
    "python": {
     "delete_cmd_postfix": "",
     "delete_cmd_prefix": "del ",
     "library": "var_list.py",
     "varRefreshCmd": "print(var_dic_list())"
    },
    "r": {
     "delete_cmd_postfix": ") ",
     "delete_cmd_prefix": "rm(",
     "library": "var_list.r",
     "varRefreshCmd": "cat(var_dic_list()) "
    }
   },
   "types_to_exclude": [
    "module",
    "function",
    "builtin_function_or_method",
    "instance",
    "_Feature"
   ],
   "window_display": false
  }
 },
 "nbformat": 4,
 "nbformat_minor": 2
}
