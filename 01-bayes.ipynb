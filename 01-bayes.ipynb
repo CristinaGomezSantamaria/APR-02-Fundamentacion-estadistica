{
 "cells": [
  {
   "cell_type": "markdown",
   "metadata": {
    "slideshow": {
     "slide_type": "slide"
    }
   },
   "source": [
    "Noción de Probabilidad y Teorema de Bayes\n",
    "===\n",
    "\n",
    "**Juan David Velásquez Henao**  \n",
    "jdvelasq@unal.edu.co   \n",
    "Universidad Nacional de Colombia, Sede Medellín  \n",
    "Facultad de Minas  \n",
    "Medellín, Colombia\n"
   ]
  },
  {
   "cell_type": "markdown",
   "metadata": {},
   "source": [
    "---"
   ]
  },
  {
   "cell_type": "markdown",
   "metadata": {
    "slideshow": {
     "slide_type": "slide"
    }
   },
   "source": [
    "# Definición del problema\n",
    "\n",
    "La recepción de publicidad no deseada y mensajes fraudulentos es un problema que afecta a muchos usuarios. Es por ello que las compañias prestadoras de servicios desean filtrar este tipo de mensajes con el fin de evitar el consumo de espacio en su infraestructura y la molestia para el usuario."
   ]
  },
  {
   "cell_type": "markdown",
   "metadata": {
    "slideshow": {
     "slide_type": "subslide"
    }
   },
   "source": [
    "# Definición del problema en términos de los datos\n",
    "\n",
    "Se tiene una muestra conformada por los siguientes mensajes:\n",
    "\n",
    "\n",
    "     #  Tipo    Mensaje\n",
    "    ---------------------------------------\n",
    "     1  spam    w1 w3 \n",
    "     2  spam    w1 w2 w1 w3\n",
    "     3  ham     w2 w4 \n",
    "     4  ham     w4 w5 w2\n",
    "     5  ham     w2 w4 w2\n",
    "\n",
    "\n",
    "El problema en términos de los datos consiste en clasificar si un mensaje SMS es legítico o spam, a partir del análisis de las palabras que contiente; se supone que ciertas palabras que son más frecuentes dependiendo del tipo de mensaje."
   ]
  },
  {
   "cell_type": "markdown",
   "metadata": {},
   "source": [
    "# Solución"
   ]
  },
  {
   "cell_type": "markdown",
   "metadata": {
    "slideshow": {
     "slide_type": "slide"
    }
   },
   "source": [
    "## Definición de probabilidad como frecuencia\n",
    "\n",
    "**Espacio muestral:** se define como el conjunto de todos los posibles resultados de un experimento."
   ]
  },
  {
   "cell_type": "markdown",
   "metadata": {
    "slideshow": {
     "slide_type": "slide"
    }
   },
   "source": [
    "**Ejercicio.--** En la tirada de dos dados, ¿cuál es el espacio muestral?"
   ]
  },
  {
   "cell_type": "markdown",
   "metadata": {},
   "source": [
    "**Evento:** Es cualquier colección de posibles resultados de un experimento (subconjunto del espacio muestral)."
   ]
  },
  {
   "cell_type": "markdown",
   "metadata": {
    "slideshow": {
     "slide_type": "slide"
    }
   },
   "source": [
    "En su forma más simple, el concepto de probabilidad puede interpretarse como la frecuencia con que ocurre un evento. Por ejempo, si en la tirada de dos dados se definen como un evento la cantidad de posibles resultados que dan una suma determinada, entonces:\n",
    "\n",
    "<img src=\"images/tirada-dados.jpg\" width=300>\n",
    "\n",
    "\n",
    "    Pr(𝑋= 2) = 1 / 36   Pr(𝑋= 6) = 5 / 36   Pr(𝑋=10) = 3 / 36\n",
    "    Pr(𝑋= 3) = 2 / 36   Pr(𝑋= 7) = 6 / 36   Pr(𝑋=11) = 2 / 36\n",
    "    Pr(𝑋= 4) = 3 / 36   Pr(𝑋= 8) = 5 / 36   Pr(𝑋=12) = 1 / 36\n",
    "    Pr(𝑋= 5) = 4 / 36   Pr(𝑋= 9) = 4 / 36"
   ]
  },
  {
   "cell_type": "markdown",
   "metadata": {
    "slideshow": {
     "slide_type": "slide"
    }
   },
   "source": [
    "**Ejercicio.--** Los soldados mediavales apostaban con dos dados de la siguiente manera: si el resultado es par {2, 4, 6, 8, 10, 12} ganaba el soldado A; y si el resultado es impar {3, 5, 7, 9, 11} ganaba el soldado B. ¿Quién tiene mayor probabilidad de ganar?"
   ]
  },
  {
   "cell_type": "markdown",
   "metadata": {
    "slideshow": {
     "slide_type": "slide"
    }
   },
   "source": [
    "## Propiedades y definiciones básicas\n",
    "\n",
    "\n",
    "* Todas las probabilidades deben estar entre $0$ y $1$: \n",
    "\n",
    "\n",
    "$$0 \\le \\text{Pr}(x_i) \\le 1$$\n",
    "\n",
    "\n",
    "* Las probabilidades de eventos mutuamente exclusivos (no pueden ocurrir simultáneamente) y colectivamente exhaustivos (cubren todo el universo de casos posibles) deben sumar la unidad:\n",
    "\n",
    "$$\\sum_{i=1}^n \\text{Pr}(x_i) = 1$$\n",
    "\n",
    "<img src=\"images/eventos-conjuntos-2.jpg\" width=500>\n",
    "\n",
    "$$\\text{Pr}(F1) + \\text{Pr}(F2) + \\text{Pr}(F3) = 1, \\quad \\qquad \\text{Pr}(V1) + \\text{Pr}(V2) = 1$$ "
   ]
  },
  {
   "cell_type": "markdown",
   "metadata": {
    "slideshow": {
     "slide_type": "slide"
    }
   },
   "source": [
    "* **Probabilidad conjunta:** Los eventos ocurren simultaneamente. \n",
    "\n",
    "$$\\text{Pr}(F1~\\text{and}~V2)$$\n",
    "\n",
    "<img src=\"images/probabilidad-conjunta-3.jpg\" width=250>"
   ]
  },
  {
   "cell_type": "markdown",
   "metadata": {
    "slideshow": {
     "slide_type": "fragment"
    }
   },
   "source": [
    "* **Probabilidad condicional:** probabilidad de que ocurra un evento sabiendo que el otro ya ocurrio.\n",
    "\n",
    "$$\\text{Pr}(V2 \\; | \\; F1) = \\text{Pr}(F1 \\; \\text{and} \\; V2) \\; / \\; \\text{Pr}(F1)$$\n",
    "\n",
    "<img src=\"images/probabilidad-condicional.jpg\" width=150>"
   ]
  },
  {
   "cell_type": "markdown",
   "metadata": {
    "slideshow": {
     "slide_type": "slide"
    }
   },
   "source": [
    "* **Independencia:** Si los eventos $A$ y $B$ son independientes:\n",
    "\n",
    "$$\\text{Pr}(A \\; |  \\; B) = \\text{Pr}(A)$$\n",
    "\n",
    "De la definición de probabilidad condicional:\n",
    "\n",
    "$$\\text{Pr}(A  \\; |  \\; B) = \\text{Pr}(A) = \\frac{\\text{Pr}(A\\text{ and }B)}{\\text{Pr}(B)}$$\n",
    "\n",
    "Entonces:\n",
    "\n",
    "$$\\text{Pr}(A\\text{ and } B) \\; =  \\; \\text{Pr}(A) \\; * \\; \\text{Pr}(B)$$ "
   ]
  },
  {
   "cell_type": "markdown",
   "metadata": {
    "slideshow": {
     "slide_type": "slide"
    }
   },
   "source": [
    "* **Probabilidad marginal**: Sea $𝑋_i$ con $𝑖 = 1, ... , 𝑛$, un conjunto de eventos mutuamente exclusivos y colectivamente exhaustivos. La probabilidad de un evento $𝐴$ es:\n",
    "\n",
    "$$\\text{Pr}(A) = \\sum_{i=1}^n \\text{Pr}(A\\text{ and }X_i)$$\n",
    "\n",
    "<img src=\"images/eventos-conjuntos.jpg\" width=750>"
   ]
  },
  {
   "cell_type": "markdown",
   "metadata": {
    "slideshow": {
     "slide_type": "slide"
    }
   },
   "source": [
    "* **Unión (OR):** Para dos eventos $A$ y $B$:\n",
    "\n",
    "$$\\text{Pr}(A \\text{ or } B) = \\text{Pr}(A) + \\text{Pr}(B) - \\text{Pr}(A\\text{ and }B)$$\n",
    "\n",
    "<img src=\"images/probabilidad-conjunta-3.jpg\" width=250>"
   ]
  },
  {
   "cell_type": "markdown",
   "metadata": {
    "slideshow": {
     "slide_type": "slide"
    }
   },
   "source": [
    "* **Complemento**: \n",
    "$$\\text{Pr}(\\text{not } A) = 1 - \\text{Pr}(A)$$"
   ]
  },
  {
   "cell_type": "markdown",
   "metadata": {
    "slideshow": {
     "slide_type": "fragment"
    }
   },
   "source": [
    "* **Probabilidad total**: \n",
    "\n",
    "\n",
    "$$\\text{Pr}(A) = \\text{Pr}(A\\text{ and } B) + \\text{Pr}(A\\text{ and } \\text{not }B) $$ \n",
    "\n",
    "$$\\text{Pr}(A) = \\text{Pr}(A \\; | \\; B) \\; \\text{Pr}(B)  \\; + \\;  \\text{Pr}(A \\; | \\; \\text{not }B)\\text{ Pr}(\\text{not }B)$$"
   ]
  },
  {
   "cell_type": "markdown",
   "metadata": {
    "slideshow": {
     "slide_type": "slide"
    }
   },
   "source": [
    "* **Teorema de Bayes**:\n",
    "$$\\text{Pr}(A\\text{ and }B) = \\text{Pr}(A \\; | \\; B)\\text{ Pr}({B}) =  \\text{Pr}(B \\; | \\; A) \\; \\text{Pr}({A})$$\n",
    "\n",
    "$$ $$\n",
    "\n",
    "$$\\text{Pr}(B \\; | \\; A) = \n",
    "    \\frac{\\text{Pr}(A \\; | \\; B) \\; \\text{Pr}(B)}{\\text{Pr}(A)} = \n",
    "    \\frac{\\text{Pr}(A \\; | \\; B)~\\text{Pr}(B)} {\\text{Pr}(A \\; | \\; B) \\; \\text{Pr}(B)  \\; + \\;  \\text{Pr}(A \\; | \\; \\text{not }B) \\; \\text{Pr}(\\text{not }B)}$$"
   ]
  },
  {
   "cell_type": "markdown",
   "metadata": {
    "slideshow": {
     "slide_type": "slide"
    }
   },
   "source": [
    "---\n",
    "**Ejercicio.--** Complete las siguientes tablas de probabilidades:\n",
    "\n",
    "\n",
    "*Probabilidades totales*:\n",
    "\n",
    "\n",
    "               F1    F2    F3  Prob(V)\n",
    "     ----------------------------------\n",
    "         V1   0.10     ?  0.03       ?\n",
    "         V2      ?  0.26  0.14    0.62\n",
    "     ----------------------------------\n",
    "      Prob(F)      ?      ?      ?        \n",
    "    \n",
    "    \n",
    "*Probabilidades condicionales*:\n",
    "\n",
    "    Prob(F|V)                 Prob(V|F)\n",
    "\n",
    "            F1    F2    F3            F1    F2    F3  \n",
    "    ----------------------    ----------------------\n",
    "      V1 10/38     ?     ?      V1     ? 25/51     ?        \n",
    "      V2     ?     ? 14/62      V2     ?     ?     ?  \n",
    "      "
   ]
  },
  {
   "cell_type": "markdown",
   "metadata": {
    "slideshow": {
     "slide_type": "slide"
    }
   },
   "source": [
    "**Ejercicio.--** Verifique las dos tablas de probabilidades condicionales calculadas en el ejercicio anterior usando el teorema de Bayes (es decir, aplicando la formula anterior).\n",
    "\n",
    "---"
   ]
  },
  {
   "cell_type": "markdown",
   "metadata": {},
   "source": [
    "## Solución del problema"
   ]
  },
  {
   "cell_type": "markdown",
   "metadata": {
    "slideshow": {
     "slide_type": "slide"
    }
   },
   "source": [
    "En términos del problema de filtrado de mensajes de texto, V1 se interpreta como \"Es spam\" y V2 como NOT \"Es spam\", ya que son eventos mutuamente exclusivos y colectivamente exhaustivos. Si F es la ocurrencia de una determinada palabra en el texto, como por ejemplo \"Viagra\", entonces F1 sería \"Viagra\"(\"viagra\" aparece en el mensaje) y F2 sería NOT \"Viagra\" (\"viagra\" no aparece en el mensaje).   "
   ]
  },
  {
   "cell_type": "markdown",
   "metadata": {
    "slideshow": {
     "slide_type": "subslide"
    }
   },
   "source": [
    "De acuerdo con el teorema de Bayes:\n",
    "\n",
    "$$\\text{Pr}(\\text{spam} \\; | \\; \\text{viagra}) = \\frac{\\text{Pr}(\\text{viagra} \\, | \\, \n",
    "\\text{spam})*\\text{Pr}(\\text{spam})}{\\text{Pr}(\\text{viagra})}$$\n",
    "\n",
    "* $\\text{Pr}(\\text{spam} \\, | \\, \\text{viagra})$ es la probabilidad posterior.\n",
    "\n",
    "\n",
    "* $\\text{Pr}(\\text{viagra} \\, | \\, \\text{spam})$ es la verosimilitud.\n",
    "\n",
    "\n",
    "* $\\text{Pr}(\\text{spam})$ es la probabilidad prior, es decir, la probabilidad de que un mensaje sea spam sin conocer el texto que contiene.\n",
    "\n",
    "\n",
    "* $\\text{Pr}(\\text{viagra})$ es la verosimilitud marginal.\n",
    "\n",
    "El cálculo de cada una de las probabilidades se realiza tal como se hizo en el ejercicio anterior."
   ]
  },
  {
   "cell_type": "markdown",
   "metadata": {
    "slideshow": {
     "slide_type": "slide"
    }
   },
   "source": [
    "**Algoritmo Naive Bayes.** Se tiene una muestra de ejemplos de mensajes que han sido catalogados como spam y válidos (no spam): \n",
    "\n",
    "     #  Tipo    Mensaje\n",
    "    ---------------------------------------\n",
    "     1  spam    w1 w3 \n",
    "     2  spam    w1 w2 w1 w3\n",
    "     3  ham     w2 w4 \n",
    "     4  ham     w4 w5 w2\n",
    "     5  ham     w2 w4 w2\n",
    "\n",
    "Para realizar la clasificación se tienen cuatro palabras $w_1$, $w_2$, $w_3$, $w_4$ y $w_5$ que pueden estar o no en cada uno de los mensajes de texto. La probabilidad de que la palabra $w_1$ este en el mensaje se nota como $\\text{Pr}(w_1)$, y de que no este como $\\text{Pr}(\\text{not }w_1)$."
   ]
  },
  {
   "cell_type": "markdown",
   "metadata": {
    "slideshow": {
     "slide_type": "slide"
    }
   },
   "source": [
    "**Ejercicio.--** Calcule las tablas de probabilidades:\n",
    "\n",
    "* Probabilidad individual $\\text{Pr}(w_i)$:\n",
    "\n",
    "               w1    w2    w3    w4    w5\n",
    "      ----------------------------------------------\n",
    "      Pr\n",
    "\n",
    "* Probabilidad conjunta $\\text{Pr}(w_i, \\text{Tipo})$:\n",
    "\n",
    "      Tipo     w1    w2    w3    w4    w5  Pr(tipo)\n",
    "      ----------------------------------------------     \n",
    "      spam   3/14     ?     ?     ?     ?     6/14 \n",
    "      ham       ?     ?  0/14     ?     ?        ?\n",
    "     \n",
    "* Probabilidad condicional $\\text{Pr}(w_i \\, | \\, \\text{Tipo})$:\n",
    "\n",
    "      Tipo     w1    w2    w3    w4    w5 \n",
    "      ---------------------------------------------     \n",
    "      spam    3/6     ?     ?     ?     ?   \n",
    "      ham       ?     ?     ?   3/8     ?  \n",
    "\n",
    "* Probabilidad condicional $\\text{Pr}(\\text{not } w_i \\, |  \\, \\text{Tipo})$:\n",
    "\n",
    "      Tipo     w1    w2    w3    w4    w5 \n",
    "      ---------------------------------------------     \n",
    "      spam      ?   5/6     ?     ?     ?   \n",
    "      ham       ?     ?     ?     ?   7/8      \n",
    "\n",
    "     "
   ]
  },
  {
   "cell_type": "markdown",
   "metadata": {
    "slideshow": {
     "slide_type": "slide"
    }
   },
   "source": [
    "**Ejemplo.--** Determine si el mensaje $w_1 w_4$ es spam.\n",
    "\n",
    "Este mensaje contiene las palabras $w_1$ y $w_4$ y no contiene las palabras $w_2$, $w_3$ y $w_5$, la probabilidad de que sea spam es:\n",
    "\n",
    "$$\\text{Pr}(\\text{spam}~|~w_1~\\text{and}~\\text{not}~w_2~\\text{and}~\\text{not}~w_3~\\text{and}~w_4~\\text{and}~\\text{not}~w_5) = \\frac{\\text{Pr}(w_1~\\text{and}~\\text{not}~w_2~\\text{and}~\\text{not}~w_3~\\text{and}~w_4~\\text{and}~\\text{not}~w_5 |~\\text{spam}) * \\text{Pr}(\\text{spam})}\n",
    "{\\text{Pr}(~w_1~\\text{and}~\\text{not}~w_2~\\text{and}~\\text{not}~w_3~\\text{and}~w_4~\\text{and}~\\text{not}~w_5)}\n",
    "$$"
   ]
  },
  {
   "cell_type": "markdown",
   "metadata": {},
   "source": [
    "Si se tiene en cuenta que la ocurrencia de la palabras $w_1$, $w_2$, $w_3$, $w_4$ y $w_5$ son eventos independientes, es decir, que la ocurrencia de una palabra es independiente de la ocurrencia de la otra, entonces:\n",
    "\n",
    "$$\n",
    "\\text{Pr}(w_1~\\text{and}~\\text{not}~w_2~\\text{and}~\\text{not}~w_3~\\text{and}~w_4 ~\\text{and}~\\text{not}~w_5|~\\text{spam}) \\propto \\\\\n",
    "\\text{Pr}(w_1~|~\\text{spam})*\n",
    "\\text{Pr}(\\text{not}~w_2~|~\\text{spam})*\n",
    "\\text{Pr}(\\text{not}~w_3|~\\text{spam})*\n",
    "\\text{Pr}(w_4~|~\\text{spam})*\n",
    "\\text{Pr}(\\text{not}~w_5|~\\text{spam})\n",
    "$$"
   ]
  },
  {
   "cell_type": "markdown",
   "metadata": {
    "slideshow": {
     "slide_type": "slide"
    }
   },
   "source": [
    "**Ejercicio.--** Calcule la probabilidad de que el mensaje $w_1 w_4$ sea spam, es decir, calcule la siguiente probabilidad:\n",
    "\n",
    "$$\\text{Pr}(\\text{spam}~|~w_1~\\text{and}~\\text{not}~w_2~\\text{and}~\\text{not}~w_3~\\text{and}~w_4~\\text{and}~\\text{not}~w_5)$$\n"
   ]
  },
  {
   "cell_type": "markdown",
   "metadata": {
    "slideshow": {
     "slide_type": "slide"
    }
   },
   "source": [
    "**Ejercicio.--** Calcule la probabilidad de que el mensaje $w_1 w_4$ sea ham, es decir, calcule la siguiente probabilidad:\n",
    "\n",
    "$$\\text{Pr}(\\text{ham}~|~w_1~\\text{and}~\\text{not}~w_2~\\text{and}~\\text{not}~w_3~\\text{and}~w_4~\\text{and}~\\text{not}~w_5)$$\n",
    "\n",
    " "
   ]
  },
  {
   "cell_type": "markdown",
   "metadata": {},
   "source": [
    "**Ejerccio.--** Con base en los resultados anteriores, el mensaje es ham o spam?"
   ]
  },
  {
   "cell_type": "markdown",
   "metadata": {
    "slideshow": {
     "slide_type": "slide"
    }
   },
   "source": [
    "La ecuación anterior es la usada en la implementación computacional del algoritmo Naive Bayes para el cómputo de las probabilidades posteriores. En general, la ecuación anterior se puede escribir como:\n",
    "\n",
    "$$\\text{Pr}(C_L~|~F_1, ...,F_n) = \\frac{1}{Z}\\text{Pr}(C_L)\\prod_{i=1}^n \\text{Pr}(F_i~|~C_L)$$\n",
    "\n",
    "donde:\n",
    "\n",
    "* $F_i$ son las características.\n",
    "\n",
    "\n",
    "* $1/Z$ es un factor de escala.\n",
    "\n",
    "\n",
    "* $C_L$ representa el nivel $L$ de la clase $C$."
   ]
  },
  {
   "cell_type": "markdown",
   "metadata": {
    "slideshow": {
     "slide_type": "slide"
    }
   },
   "source": [
    "**Estimador de Laplace**. Al construir la tabla de probabilidades de las ocurrencias de las palabras, es posible que una palabra $w_k$ aparezca únicamente en los mensajes válidos y no aparezca en los mensajes spam. De esta forma si se calcula la probabilidad posterior de un nuevo mensaje que no la contiene, el resultado es cero para spam y uno para válido. Para prevernir esta situación, se hace que el conteo inicial no arranque en cero con el fin de que la probabilidad de ocurrencia sea siempre mayor que cero. Esto equivale a tener un mensaje que contiene todas las palabras."
   ]
  },
  {
   "cell_type": "markdown",
   "metadata": {},
   "source": [
    "**Ejercicio.--** Realice nuevamente el ejercicio anterior usando el estimador de Laplace.\n",
    "\n",
    "* Probabilidad individual $\\text{Pr}(w_i)$:\n",
    "\n",
    "               w1    w2    w3    w4    w5\n",
    "      ----------------------------------------------\n",
    "      Pr\n",
    "\n",
    "\n",
    "* Complete la tabla de probabilidad conjunta:\n",
    "\n",
    "      Tipo     w1    w2    w3    w4    w5  Pr(tipo)\n",
    "      ----------------------------------------------     \n",
    "      spam   4/21     ?     ?     ?     ?    11/21 \n",
    "      ham       ?     ?  1/21     ?     ?        ?\n",
    "     \n",
    "* Complete la tabla de probabilidad condicional $\\text{Pr}(w_i \\, | \\, \\text{Tipo})$:\n",
    "\n",
    "      Tipo     w1    w2    w3    w4    w5 \n",
    "      ---------------------------------------------     \n",
    "      spam   4/11     ?     ?     ?     ?   \n",
    "      ham       ?     ?     ?  3/10     ?  \n",
    "\n",
    "* Complete la tabla de probabilidad condicional $\\text{Pr}(\\text{not } w_i \\, |  \\, \\text{Tipo})$:\n",
    "\n",
    "      Tipo     w1    w2    w3    w4    w5 \n",
    "      ---------------------------------------------     \n",
    "      spam      ?  9/11     ?     ?     ?   \n",
    "      ham       ?     ?     ?     ?  8/10     \n",
    "\n",
    "* Calcule la probabilidad de que el mensaje $w_1w_4$ sea spam:\n",
    "\n",
    "$$\\text{Pr}(\\text{spam}~|~w_1~\\text{and}~\\text{not}~w_2~\\text{and}~\\text{not}~w_3~\\text{and}~w_4~\\text{and}~\\text{not}~w_5)$$\n",
    " \n",
    "R/ 39.07% \n",
    " \n",
    "* Calcule la probabilidad de que el mensaje sea $w_1w_4$ válido:\n",
    "\n",
    "$$\\text{Pr}(\\text{ham}~|~w_1~\\text{and}~\\text{not}~w_2~\\text{and}~\\text{not}~w_3~\\text{and}~w_4~\\text{and}~\\text{not}~w_5)$$\n",
    "\n",
    "R/ 30.03%\n"
   ]
  },
  {
   "cell_type": "markdown",
   "metadata": {},
   "source": [
    "---"
   ]
  },
  {
   "cell_type": "markdown",
   "metadata": {
    "slideshow": {
     "slide_type": "slide"
    }
   },
   "source": [
    "Noción de Probabilidad y Teorema de Bayes\n",
    "===\n",
    "\n",
    "**Juan David Velásquez Henao**  \n",
    "jdvelasq@unal.edu.co   \n",
    "Universidad Nacional de Colombia, Sede Medellín  \n",
    "Facultad de Minas  \n",
    "Medellín, Colombia\n"
   ]
  }
 ],
 "metadata": {
  "kernel_info": {
   "name": "python3"
  },
  "kernelspec": {
   "display_name": "Python 3",
   "language": "python",
   "name": "python3"
  },
  "language_info": {
   "codemirror_mode": {
    "name": "ipython",
    "version": 3
   },
   "file_extension": ".py",
   "mimetype": "text/x-python",
   "name": "python",
   "nbconvert_exporter": "python",
   "pygments_lexer": "ipython3",
   "version": "3.6.4"
  },
  "nteract": {
   "version": "0.7.1"
  },
  "varInspector": {
   "cols": {
    "lenName": 16,
    "lenType": 16,
    "lenVar": 40
   },
   "kernels_config": {
    "python": {
     "delete_cmd_postfix": "",
     "delete_cmd_prefix": "del ",
     "library": "var_list.py",
     "varRefreshCmd": "print(var_dic_list())"
    },
    "r": {
     "delete_cmd_postfix": ") ",
     "delete_cmd_prefix": "rm(",
     "library": "var_list.r",
     "varRefreshCmd": "cat(var_dic_list()) "
    }
   },
   "types_to_exclude": [
    "module",
    "function",
    "builtin_function_or_method",
    "instance",
    "_Feature"
   ],
   "window_display": false
  }
 },
 "nbformat": 4,
 "nbformat_minor": 2
}
