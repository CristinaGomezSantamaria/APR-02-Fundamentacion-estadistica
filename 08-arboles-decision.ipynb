{
 "cells": [
  {
   "cell_type": "markdown",
   "metadata": {
    "slideshow": {
     "slide_type": "slide"
    }
   },
   "source": [
    "Arboles de Decisión\n",
    "===\n",
    "\n",
    "**Juan David Velásquez Henao**  \n",
    "jdvelasq@unal.edu.co   \n",
    "Universidad Nacional de Colombia, Sede Medellín  \n",
    "Facultad de Minas  \n",
    "Medellín, Colombia\n",
    "\n",
    "---\n",
    "\n",
    "Haga click [aquí](https://github.com/jdvelasq/statistics-for-analytics/tree/master/) para acceder al repositorio online.\n",
    "\n",
    "Haga click [aquí](http://nbviewer.jupyter.org/github/jdvelasq/statistics-for-analytics/tree/master/) para explorar el repositorio usando `nbviewer`. "
   ]
  },
  {
   "cell_type": "markdown",
   "metadata": {},
   "source": [
    "---"
   ]
  },
  {
   "cell_type": "markdown",
   "metadata": {},
   "source": [
    "# Definición del problema en términos del negocio"
   ]
  },
  {
   "cell_type": "markdown",
   "metadata": {},
   "source": [
    "La compañía A va a participar en una convocatoria por invitación directa para el desarrollo y producción de una nueva pieza de equipo para un mercado emergente. Los costos de producción son inciertos. Adicionalmente, se sabe que la compañía B también ha sido invitada a la licitación privada y tiene una experiencia y reputación equivalente a la compañía A. ¿Cómo debe definirse el valor de la oferta por parte de la compañia A?"
   ]
  },
  {
   "cell_type": "markdown",
   "metadata": {},
   "source": [
    "# Definición del problema en términos de los datos"
   ]
  },
  {
   "cell_type": "markdown",
   "metadata": {},
   "source": [
    "El gerente de la compañía A debe decidir si la empresa se presenta o no a la licitación privada, y en caso de presentarse puede elegir entre 300, 500 o 700 como valor de su oferta. El equipo comercial estima que la compañía B podría presentar valores de oferta de 400, 600 o 800 con probabilidades de 35%, 50% y 15% respectivamente. El equipo de ingenería estima que los costos podrían ser de 200, 400 o 600 con probabilidades de 25%, 50% y 25% respectivamente. La utilidad para la compañía A se puede estimar simplemente como OFERTA_A - COSTO_A. "
   ]
  },
  {
   "cell_type": "markdown",
   "metadata": {},
   "source": [
    "# Solución"
   ]
  },
  {
   "cell_type": "markdown",
   "metadata": {},
   "source": [
    "Una forma de estructurar el análisis anterior es mediante el uso de árboles de decisión. Cada nodo del árbol representa una variable del problema y las ramas del nodo representa los valores que puede tomar dicha variable. En el problema descrito existen dos variables probabilisticas: la oferta de B (OFERTA_B) y los costos de A (COSTO_A); estas se representan como nodos de la siguiente forma:\n",
    "\n",
    "           COSTO_A              OFERTA_B\n",
    "          \n",
    "         PROB  VAL             PROB  VAL\n",
    "       __0.25__200           __0.35__400\n",
    "    __C__0.50__400        __C__0.55__600\n",
    "      |__0.25__600          |__0.15__800\n",
    "      \n",
    "      \n",
    "Por otra parte, el nodo que representa el valor de oferta de la compañía A es un nodo de decisión, esto es, el gerente puede decidir la acción a tomar (la rama a seguir). Este nodo se representa como:\n",
    "\n",
    "           OERTA_A\n",
    "          \n",
    "               VAL\n",
    "       ________300\n",
    "      |________500\n",
    "    __D\n",
    "      |________700\n",
    "      |______NOBID\n"
   ]
  },
  {
   "cell_type": "markdown",
   "metadata": {},
   "source": [
    "Ya que las variables son independientes entre si, es posible estructurar su secuencia bajo la forma de un árbol. Ya que las ramas son eventos independientes, es posible calcular la probabilidad de una trayectoria por el árbol, como la multiplicación de las probabilidades de cada rama.  "
   ]
  },
  {
   "cell_type": "markdown",
   "metadata": {},
   "source": [
    "---\n",
    "**Ejercicio.--** Complete las probabilidades de cada rama para el árbol presentado a continuación.\n",
    "\n",
    "\n",
    "                             OFERTA_B                  COSTO_A\n",
    "                                             \n",
    "                            PROB  VAL                PROB  VAL         PROB\n",
    "                                             \n",
    "                                                   __0.25__200______ 0.0875\n",
    "                          __0.35__400_____________C__0.50__400______      ?\n",
    "                         |                        |__0.25__600______      ?\n",
    "                         |\n",
    "                         |                        ___0.25__200_____       ?\n",
    "                     ____C__0.50__600____________C___0.50__400_____  0.2500\n",
    "                         |                       |___0.25__600_______     ?\n",
    "                         |\n",
    "                         |                        ___0.25__200_______0.0375\n",
    "                         |__0.15__800____________C___0.50__400_______     ?\n",
    "                                                 |___0.25__600_______     ?\n",
    "                        \n",
    "\n",
    "---"
   ]
  },
  {
   "cell_type": "markdown",
   "metadata": {},
   "source": [
    "De acuerdo con el enunciado del problema, si la compañía B presenta una oferta más baja, la compañía A pierde el contrato y su utilidad es cero. Si la compañia A gana el contrato, entonces la utilidad será OFERTA_A - COSTO_A. \n",
    "\n",
    "El valor esperado de un nodo probabilistico es la sumatoria de los valores esperados de sus ramas multiplicados por la probabilidad de la correspondiente rama."
   ]
  },
  {
   "cell_type": "markdown",
   "metadata": {},
   "source": [
    "---\n",
    "**Ejercicio.--** El siguiete diagrama representa el árbol de decisiones del problema enunciado. Realice lo siguiente:\n",
    "\n",
    "* Compute el valor de la utilidlad para todas las ramas terminales.\n",
    "\n",
    "\n",
    "* Compute el valor esperado de los nodos COSTO_A.\n",
    "\n",
    "\n",
    "* Compute el valor esperado de los nodos OFERTA_B.\n",
    "\n",
    "\n",
    "* Compute el valor esperado de la decisión.\n",
    "\n",
    "\n",
    "* Cuál debe ser la oferta de A?\n",
    "\n",
    "\n",
    "              DECISION    OFERTA_A           OFERTA_B                  COSTO_A      UTILIDAD\n",
    "             -------------------------------------------------------------------------------------             \n",
    "                             \n",
    "              EXP VAL     VAL                PROB  VAL   EXP VAL      PROB  VAL      EXP VAL    PROB \n",
    "                                                                    __0.25__200_______+100.0__0.0875 \n",
    "                                           __0.35__400____-100.0___C__0.50__400_______     ?__     ?\n",
    "                                          |                        |__0.25__600_______     ?__     ?\n",
    "                                          |\n",
    "                                          |                        ___0.25__200_______     ?__     ?\n",
    "                        __300_____-100.0__C__0.55__600____     ?__C___0.50__400_______-100.0__0.2500\n",
    "                       |                  |                       |___0.25__600_______     ?__     ?\n",
    "                       |                  |\n",
    "                       |                  |                        ___0.25__200_______     ?__     ?\n",
    "                       |                  |__0.15__800____     ?__C___0.50__400_______     ?__     ? \n",
    "                       |                                          |___0.25__600_______-300.0__0.0375\n",
    "                       |\n",
    "                       |                                            __0.25__200_______   0.0__0.0875\n",
    "                       |                   __0.35__400____-100.0___C__0.50__400_______     ?__     ?\n",
    "                       |                  |                        |__0.25__600_______     ?__     ?\n",
    "                       |                  |\n",
    "                       |                  |                        ___0.25__200_______     ?__     ? \n",
    "                       |__500______    ?__C__0.55__600____-100.0__C___0.50__400_______+100.0__0.2500\n",
    "                       |                  |                       |___0.25__600_______     ?__     ?\n",
    "                       |                  |\n",
    "                       |                  |                        ___0.25__200_______     ?__     ?\n",
    "                       |                  |__0.15__800____-100.0__C___0.50__400_______     ?__     ?\n",
    "                       |                                          |___0.25__600_______-100.0__0.0375\n",
    "           _______  ?__D\n",
    "                       |                                            __0.25__200_______   0.0__0.0875\n",
    "                       |                   __0.35__400____-100.0___C__0.50__400_______     ?__     ? \n",
    "                       |                  |                        |__0.25__600_______     ?__     ?\n",
    "                       |                  |\n",
    "                       |                  |                        ___0.25__200_______     ?__     ?\n",
    "                       |__700_______   ?__C__0.55__600____-100.0__C___0.50__400_______   0.0__0.2500\n",
    "                       |                  |                       |___0.25__600_______     ?__     ?\n",
    "                       |                  |\n",
    "                       |                  |                        ___0.25__200_______     ?__     ?\n",
    "                       |                  |__0.15__800____-100.0__C___0.50__400_______     ?__     ?\n",
    "                       |                                          |___0.25__600_______+100.0__0.0375\n",
    "                       |\n",
    "                       |__NOBID______0.0____________________________________________________\n",
    "\n",
    "---"
   ]
  },
  {
   "cell_type": "markdown",
   "metadata": {},
   "source": [
    "**Ejercicio.--** A partir de los valores esperados de los nodos terminales del árbol y su respectiva probabilidad, grafique la curva de probabilidad acumulada para la utilidad de la compañía A.\n"
   ]
  },
  {
   "cell_type": "markdown",
   "metadata": {},
   "source": [
    "---"
   ]
  },
  {
   "cell_type": "markdown",
   "metadata": {
    "slideshow": {
     "slide_type": "slide"
    }
   },
   "source": [
    "Arboles de Decisión\n",
    "===\n",
    "\n",
    "**Juan David Velásquez Henao**  \n",
    "jdvelasq@unal.edu.co   \n",
    "Universidad Nacional de Colombia, Sede Medellín  \n",
    "Facultad de Minas  \n",
    "Medellín, Colombia\n",
    "\n",
    "---\n",
    "\n",
    "Haga click [aquí](https://github.com/jdvelasq/statistics-for-analytics/tree/master/) para acceder al repositorio online.\n",
    "\n",
    "Haga click [aquí](http://nbviewer.jupyter.org/github/jdvelasq/statistics-for-analytics/tree/master/) para explorar el repositorio usando `nbviewer`. "
   ]
  }
 ],
 "metadata": {
  "kernel_info": {
   "name": "python3"
  },
  "kernelspec": {
   "display_name": "Python 3",
   "language": "python",
   "name": "python3"
  },
  "language_info": {
   "codemirror_mode": {
    "name": "ipython",
    "version": 3
   },
   "file_extension": ".py",
   "mimetype": "text/x-python",
   "name": "python",
   "nbconvert_exporter": "python",
   "pygments_lexer": "ipython3",
   "version": "3.6.4"
  },
  "nteract": {
   "version": "0.7.1"
  },
  "varInspector": {
   "cols": {
    "lenName": 16,
    "lenType": 16,
    "lenVar": 40
   },
   "kernels_config": {
    "python": {
     "delete_cmd_postfix": "",
     "delete_cmd_prefix": "del ",
     "library": "var_list.py",
     "varRefreshCmd": "print(var_dic_list())"
    },
    "r": {
     "delete_cmd_postfix": ") ",
     "delete_cmd_prefix": "rm(",
     "library": "var_list.r",
     "varRefreshCmd": "cat(var_dic_list()) "
    }
   },
   "types_to_exclude": [
    "module",
    "function",
    "builtin_function_or_method",
    "instance",
    "_Feature"
   ],
   "window_display": false
  }
 },
 "nbformat": 4,
 "nbformat_minor": 2
}
