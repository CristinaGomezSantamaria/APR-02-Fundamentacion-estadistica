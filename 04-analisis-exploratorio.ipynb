{
 "cells": [
  {
   "cell_type": "markdown",
   "metadata": {
    "slideshow": {
     "slide_type": "slide"
    }
   },
   "source": [
    "Análisis Exploratorio de Datos\n",
    "===\n",
    "\n",
    "**Juan David Velásquez Henao**  \n",
    "jdvelasq@unal.edu.co   \n",
    "Universidad Nacional de Colombia, Sede Medellín  \n",
    "Facultad de Minas  \n",
    "Medellín, Colombia\n"
   ]
  },
  {
   "cell_type": "markdown",
   "metadata": {},
   "source": [
    "---"
   ]
  },
  {
   "cell_type": "markdown",
   "metadata": {
    "slideshow": {
     "slide_type": "slide"
    }
   },
   "source": [
    "# Introducción"
   ]
  },
  {
   "cell_type": "markdown",
   "metadata": {},
   "source": [
    "<img src=\"images/04-analisis-exploratorio/ana-expl.jpg\" width=600>"
   ]
  },
  {
   "cell_type": "markdown",
   "metadata": {},
   "source": [
    "En el análisis exploratorio de datos se busca obtener información de interés de la población a partir de una muestra que es representativa de la población. En términos más formales, se usa para generar hipótesis sobre los datos, tales como:\n",
    "\n",
    "* Ubicación del centro de los datos.\n",
    "* Dispersión de los datos.\n",
    "* Distribución de probabilidades de los datos.\n",
    "* Relaciones entre los datos."
   ]
  },
  {
   "cell_type": "markdown",
   "metadata": {},
   "source": [
    "Uno de los objetivos fundamentales en estadística es estimar el valor de un parámetro de la población mediante un estadístico calculado sobre la muesta. \n",
    "\n",
    "Existen dos aproximaciones para estimar características de la población:\n",
    "\n",
    "* Estimación de intervalos de confianza: usualmente para estadísticos calculados sobre la muestra de datos.  \n",
    "\n",
    "* Pruebas de hipótesis: para propiedades más complejas de la población, como por ejemplo su distribución de probabilidades o relaciones de dependencia entre variables."
   ]
  },
  {
   "cell_type": "markdown",
   "metadata": {},
   "source": [
    "# Definiciones Básicas"
   ]
  },
  {
   "cell_type": "markdown",
   "metadata": {},
   "source": [
    "**Población:** Colección de objetos o individuos sobre los cuales se desea obtener información de interés.\n",
    "\n",
    "**Parámetro:** Un número que resume una propiedad o característica de la población entera. "
   ]
  },
  {
   "cell_type": "markdown",
   "metadata": {},
   "source": [
    "**Muestra:** Grupo obtenido aleatoriamente que es representativo de la población.\n",
    "\n",
    "**Estadístico:** Un número que resume una propiedad o característica de la muestra. "
   ]
  },
  {
   "cell_type": "markdown",
   "metadata": {},
   "source": [
    "**Tipos de datos:**\n",
    "\n",
    "* Continuos (flotante, numérico)\n",
    "* Discretos (enteros)\n",
    "* Categóricos (enumeraciones, fctores, valores nominales).\n",
    "* Binarios (Indicadores, lógicos)\n",
    "* Ordinales (Categóricos con un ordenamiento explícito, factores ordenados)."
   ]
  },
  {
   "cell_type": "markdown",
   "metadata": {},
   "source": [
    "**Datos rectagulares:** Datos organizados en una tabla.\n",
    "* Feature: característica, atributo, entrada, predictor, variable independiente.\n",
    "* Outcome: resultado, variable dependiente, respuesta, objetivo, salida.\n",
    "* Registro: fila en una tabla de datos, también conocida como caso, ejemplo, instancia, observación, patrón o muestra."
   ]
  },
  {
   "cell_type": "markdown",
   "metadata": {},
   "source": [
    "## Medidas o estimaciones de localización"
   ]
  },
  {
   "cell_type": "markdown",
   "metadata": {},
   "source": [
    "**Media o promedio muestral:**  Valor \"típico\" de los datos.\n",
    "\n",
    "$$\\bar{x} = \\frac{1}{n} \\sum_{i=1}^n x_i$$"
   ]
  },
  {
   "cell_type": "markdown",
   "metadata": {},
   "source": [
    "**Media ponderada:** \n",
    "\n",
    "$$\\bar{x} = \\frac{1}{\\sum_{i=1}^n w_i} \\sum_{i=1}^n w_i x_i$$"
   ]
  },
  {
   "cell_type": "markdown",
   "metadata": {},
   "source": [
    "**Outlier o valor atípico:** Valores extremadamente distantes del resto de los datos. En algunos casos se pueden definir en términos de la media y la desviación estándar de la muestra; por ejemplo, se considera outliers aquellas observaciones distantes más de 3.5$\\sigma$ de la media. "
   ]
  },
  {
   "cell_type": "markdown",
   "metadata": {},
   "source": [
    "**Media truncada:** Se calcula la media sobre los datos después de eliminar los $p$ datos más pequeños y los $p$ datos más grandes. Si $x_{(1)}$, $x_{2}$, ..., $x_{(n)}$ representan los datos ordenados, donde $x_{(1)}$ es el dato más pequeño y $x_{(n)}$ el más grande, entonces la media truncada se calcula como:\n",
    "\n",
    "$$\\frac{1}{n-2p} \\sum_{i=1+p}^{n-p} x_i$$\n"
   ]
  },
  {
   "cell_type": "markdown",
   "metadata": {},
   "source": [
    "**Mediana:** es el valor $x_{((n+1)/2)}$ cuando se ordenan los datos. Es una aproximación robusta (no influenciada por datos atípicos o distribuciones asimétricas."
   ]
  },
  {
   "cell_type": "markdown",
   "metadata": {},
   "source": [
    "## Medidas o estimaciones de dispersión o variabilidad"
   ]
  },
  {
   "cell_type": "markdown",
   "metadata": {},
   "source": [
    "**Desviación:** diferencia entre el valor observado y el valor estimado de localización. En modelado sus sinónimos son errores o residuales."
   ]
  },
  {
   "cell_type": "markdown",
   "metadata": {},
   "source": [
    "**Rango:** diferencia entre el valor más grande y más pequeño de la muestra de los datos."
   ]
  },
  {
   "cell_type": "markdown",
   "metadata": {},
   "source": [
    "**Varianza muestral:**\n",
    "\n",
    "$$s^2 = \\frac{1}{n-1} \\sum_{i=1}^n (x_i - \\bar{x})^2$$"
   ]
  },
  {
   "cell_type": "markdown",
   "metadata": {},
   "source": [
    "**Desviación estándar muestral:** es $s$."
   ]
  },
  {
   "cell_type": "markdown",
   "metadata": {},
   "source": [
    "**Desviación media absoluta (MAD):** norma L1 o distancia de Manhattan.\n",
    "\n",
    "$$\\text{MAD} = \\frac{1}{n} \\sum_{i=1}^n |x_i - \\bar{x}|$$"
   ]
  },
  {
   "cell_type": "markdown",
   "metadata": {},
   "source": [
    "**Desviación absoluta de la mediana:** Ya que la varianza y la desviación media absoluta no son robusta a outliers, se puede realizar un estimado de la desviación usando la mediana $m$ de la muestra:\n",
    "\n",
    "$$\\text{Mediana}(|x_1 - m|,\\; |x_2 - m|,\\;...,\\;|x_n - m|)$$ \n",
    "\n",
    "\n",
    "También es posible computar la varianza muestral truncada en analogía a la media truncada."
   ]
  },
  {
   "cell_type": "markdown",
   "metadata": {},
   "source": [
    "**Estadísticos de orden:** Métricas calculadas sobre los datos ordenados."
   ]
  },
  {
   "cell_type": "markdown",
   "metadata": {},
   "source": [
    "**Percentil $p$:** Valor para el cual el $p$ por ciento de los datos son menores o iguales. "
   ]
  },
  {
   "cell_type": "markdown",
   "metadata": {},
   "source": [
    "**Cuartil inferior:** Valor para el cual el 25% de las observaciones son más pequeñas (percentil del 25%)."
   ]
  },
  {
   "cell_type": "markdown",
   "metadata": {},
   "source": [
    "**Cuartil superior:** Valor para el cual el 25% de las observaciones son más grandes (percentil del 75%)."
   ]
  },
  {
   "cell_type": "markdown",
   "metadata": {},
   "source": [
    "**Rango intercuartil (IQR):**\n",
    "\n",
    "$$\\text{IQR} = \\text{Cuartil superior} - \\text{Cuartil inferior}$$"
   ]
  },
  {
   "cell_type": "markdown",
   "metadata": {},
   "source": [
    "**Coeficiente de variación (CV):**\n",
    "\n",
    "$$\\text{CV} = 100 \\times \\frac{S}{\\bar{x}}$$"
   ]
  },
  {
   "cell_type": "markdown",
   "metadata": {},
   "source": [
    "**Ejercicio.--** verifique los siguientes resultados para cada clase, utilizando los datos que aparecen al final de este archivo.\n",
    "\n",
    "         ancho            largo       Clase \n",
    "     Min.   : 8.590   Min.   :11.66   A:50  \n",
    "     1st Qu.: 9.435   1st Qu.:13.32   B: 0  \n",
    "     Median :10.070   Median :14.11   C: 0  \n",
    "     Mean   :10.106   Mean   :14.10         \n",
    "     3rd Qu.:10.742   3rd Qu.:14.69         \n",
    "     Max.   :12.610   Max.   :17.81 \n",
    " \n",
    "          ancho           largo        Clase \n",
    "     Min.   :10.18   Min.   : 5.640   A: 0  \n",
    "     1st Qu.:11.79   1st Qu.: 6.925   B:50  \n",
    "     Median :12.87   Median : 7.960   C: 0  \n",
    "     Mean   :12.99   Mean   : 7.801         \n",
    "     3rd Qu.:14.11   3rd Qu.: 8.555         \n",
    "     Max.   :16.23   Max.   :10.110\n",
    " \n",
    "          ancho           largo       Clase \n",
    "     Min.   :11.20   Min.   : 8.88   A: 0  \n",
    "     1st Qu.:13.25   1st Qu.:14.34   B: 0  \n",
    "     Median :14.19   Median :15.66   C:50  \n",
    "     Mean   :14.02   Mean   :15.77         \n",
    "     3rd Qu.:14.63   3rd Qu.:17.17         \n",
    "     Max.   :15.96   Max.   :19.44 "
   ]
  },
  {
   "cell_type": "markdown",
   "metadata": {},
   "source": [
    "# Análisis de la distribución de los datos"
   ]
  },
  {
   "cell_type": "markdown",
   "metadata": {},
   "source": [
    "**Boxplot o diagrama de caja y bigotes:** gráfico que representa la distribución de los datos. En la siguiente figura se presentan dichos diagramas para los datos que aparecen en el archivo `muestra.csv`. La caja central representa el rango intercuartil; la línea central en la caja corresponde a la mediana de los datos; los \"bigotes\" se extienden hasta el dato más lejano en cada dirección, sin supera 1.5 (u otro valor) veces el rango intercuartil. Los puntos representan valores en los datos que son más lejanos de 1.5 veces el rango intercuartil y podrían ser considerados outliers.   "
   ]
  },
  {
   "cell_type": "markdown",
   "metadata": {},
   "source": [
    "<img src=\"images/04-analisis-exploratorio/boxplot.jpg\" width=600>"
   ]
  },
  {
   "cell_type": "markdown",
   "metadata": {},
   "source": [
    "---\n",
    "**Ejercicio.--** Reproduzca las gráficas anteriores.\n",
    "\n",
    "---"
   ]
  },
  {
   "cell_type": "markdown",
   "metadata": {},
   "source": [
    "**Diagrama de violin:** Diagrama similar a un boxplot pero muestra el estimado de la densidad de probabilidad."
   ]
  },
  {
   "cell_type": "markdown",
   "metadata": {},
   "source": [
    "<img src=\"images/04-analisis-exploratorio/vioplot.jpg\" width=550>"
   ]
  },
  {
   "cell_type": "markdown",
   "metadata": {},
   "source": [
    "**Histograma:** Es un diagrama que representa la cantidad de datos que contiene cada segmento en que se divide el rango de la variable analizada."
   ]
  },
  {
   "cell_type": "markdown",
   "metadata": {},
   "source": [
    "<img src=\"images/04-analisis-exploratorio/hist.jpg\" width=800>"
   ]
  },
  {
   "cell_type": "markdown",
   "metadata": {},
   "source": [
    "---\n",
    "**Ejercicio.--** Reproduzca las gráficas anteriores.\n",
    "\n",
    "---"
   ]
  },
  {
   "cell_type": "markdown",
   "metadata": {},
   "source": [
    "**Estimado no paramétrico de la función de densidad de probabilidad:** Es una aproximación a la fdp real de la población que se obtiene al ubicar un kernel en cada dato. "
   ]
  },
  {
   "cell_type": "markdown",
   "metadata": {},
   "source": [
    "<img src=\"images/04-analisis-exploratorio/kde.jpg\" width=600>"
   ]
  },
  {
   "cell_type": "markdown",
   "metadata": {},
   "source": [
    "# Datos binarios y categóricos"
   ]
  },
  {
   "cell_type": "markdown",
   "metadata": {},
   "source": [
    "En el caso de datos categóricos y binarios es suficiente con las siguientes métricas o gráficos:\n",
    "\n",
    "* Moda: El valor más frecuente en los datos.\n",
    "* Valor esperado para categorías asociadas con valores numéricos.\n",
    "* Gráficos de barra para presentar la frecuencia o proporción de cada categoría.\n",
    "* Gráficos de torta: para presentar la frecuecia o proporcion de cada categoría respecto al todo."
   ]
  },
  {
   "cell_type": "markdown",
   "metadata": {},
   "source": [
    "# Correlación"
   ]
  },
  {
   "cell_type": "markdown",
   "metadata": {},
   "source": [
    "**Coeficiente de correlación:** Métrica que representa la dependencia entre una variable y otra. El coeficiente de correlación de Pearson $r$ entre dos variables $x$ y $y$ se calcula como:\n",
    "\n",
    "$$r=\\frac{\\sum_{i=1}^n  (x_i - \\bar{x}) (y_i - \\bar{y})}\n",
    "         {(n-1)\\; s_X \\; s_Y}$$\n",
    "\n",
    "\n",
    "La correlación va entre $-1$ (correlación perfecta negativa) y $+1$ (correlación perfecta positiva). Un valor de $0$ indica que no hay correlación."
   ]
  },
  {
   "cell_type": "markdown",
   "metadata": {},
   "source": [
    "**Matriz de correlación:** Matriz donde cada fila y cada columna corresponde a una variable, y los elementos corresponden a la correlación entre las respectivas variables."
   ]
  },
  {
   "cell_type": "markdown",
   "metadata": {},
   "source": [
    "# Relaciones entre dos o más variables"
   ]
  },
  {
   "cell_type": "markdown",
   "metadata": {},
   "source": [
    "**Diagrama de dispersión:** Gráfico en que en el eje $X$ corresponde a una variable, mientras que el eje $Y$ corresponde a otra. Se usa para visualizar relaciones de dependencia. "
   ]
  },
  {
   "cell_type": "markdown",
   "metadata": {},
   "source": [
    "<img src=\"images/04-analisis-exploratorio/pairs.jpg\" width=600>"
   ]
  },
  {
   "cell_type": "markdown",
   "metadata": {},
   "source": [
    "**Gráfico de hexágonos (hexagonal binning plot):** Cuando los diagramas de dispersión contienen muchos datos se hacen demasiado densos impidiendo la visualización. En este caso, el espacio $X$-$Y$ del gráfico es dividido en hexágonos que cuentan la cantidad de puntos que caen en ellos; en este gráfico, el color de cada hexágono representa la cantidad de puntos en él (un ejemplo es presentado [aquí](https://mathematica.stackexchange.com/questions/28149/implementing-hexagon-binning-in-mathematica)). "
   ]
  },
  {
   "cell_type": "markdown",
   "metadata": {},
   "source": [
    "**Variables categóricas:** Se usa una tabla de contingencia."
   ]
  },
  {
   "cell_type": "markdown",
   "metadata": {},
   "source": [
    "---"
   ]
  },
  {
   "cell_type": "markdown",
   "metadata": {},
   "source": [
    "        #  Ancho (x1)  Largo x(2).  Clase\n",
    "        1       10,67       14,70       A\n",
    "        2        9,74       13,79       A\n",
    "        3       10,23       14,30       A\n",
    "        4       11,17       15,53       A\n",
    "        5       10,41       15,08       A\n",
    "        6       11,14       14,45       A\n",
    "        7       10,12       12,95       A\n",
    "        8        9,58       13,76       A\n",
    "        9       11,16       15,21       A\n",
    "       10       10,08       13,53       A\n",
    "       11        9,96       13,31       A\n",
    "       12        9,17       12,41       A\n",
    "       13       11,52       16,01       A\n",
    "       14       11,27       15,41       A\n",
    "       15        8,72       11,66       A\n",
    "       16       11,30       15,11       A\n",
    "       17        9,70       13,56       A\n",
    "       18        8,69       11,81       A\n",
    "       19       10,99       16,28       A\n",
    "       20       10,82       14,41       A\n",
    "       21        8,90       11,87       A\n",
    "       22        9,38       13,68       A\n",
    "       23       10,06       14,02       A\n",
    "       24        9,95       14,43       A\n",
    "       25       10,39       14,61       A\n",
    "       26       11,03       14,53       A\n",
    "       27       11,18       15,31       A\n",
    "       28       10,45       14,55       A\n",
    "       29       10,72       15,66       A\n",
    "       30        9,91       13,92       A\n",
    "       31        8,59       12,96       A\n",
    "       32       10,15       14,47       A\n",
    "       33        9,99       13,83       A\n",
    "       34       10,75       14,09       A\n",
    "       35        9,31       13,37       A\n",
    "       36        9,06       13,11       A\n",
    "       37        9,42       13,56       A\n",
    "       38       12,61       17,81       A\n",
    "       39        9,03       12,05       A\n",
    "       40       10,14       15,41       A\n",
    "       41        9,56       14,13       A\n",
    "       42       12,10       15,96       A\n",
    "       43        9,48       14,67       A\n",
    "       44        9,07       12,59       A\n",
    "       45       10,18       13,42       A\n",
    "       46        9,22       12,73       A\n",
    "       47        9,03       13,03       A\n",
    "       48        9,49       13,15       A\n",
    "       49        9,58       14,14       A\n",
    "       50       10,12       14,60       A\n",
    "       51       10,87        6,91       B\n",
    "       52       11,95        6,05       B\n",
    "       53       12,77        7,97       B\n",
    "       54       13,25        8,03       B\n",
    "       55       14,42        9,25       B\n",
    "       56       16,03        9,88       B\n",
    "       57       12,23        6,97       B\n",
    "       58       13,24        8,58       B\n",
    "       59       10,88        6,15       B\n",
    "       60       15,85        9,51       B\n",
    "       61       11,63        7,28       B\n",
    "       62       13,41        8,35       B\n",
    "       63       11,71        6,37       B\n",
    "       64       12,49        7,60       B\n",
    "       65       14,46        8,21       B\n",
    "       66       15,00       10,11       B\n",
    "       67       12,24        7,16       B\n",
    "       68       13,68        8,12       B\n",
    "       69       15,06        8,47       B\n",
    "       70       12,78        8,74       B\n",
    "       71       14,21        7,59       B\n",
    "       72       14,45        8,97       B\n",
    "       73       13,45       10,10       B\n",
    "       74       11,70        5,71       B\n",
    "       75       13,65        7,95       B\n",
    "       76       11,73        6,99       B\n",
    "       77       12,84        9,00       B\n",
    "       78       12,30        7,06       B\n",
    "       79       12,90        8,33       B\n",
    "       80       13,74        8,29       B\n",
    "       81       11,95        6,87       B\n",
    "       82       12,07        8,48       B\n",
    "       83       12,45        8,12       B\n",
    "       84       11,57        6,44       B\n",
    "       85       13,54        8,67       B\n",
    "       86       13,79        7,60       B\n",
    "       87       14,38        8,48       B\n",
    "       88       11,18        5,92       B\n",
    "       89       10,50        5,64       B\n",
    "       90       15,21        8,06       B\n",
    "       91       10,76        5,88       B\n",
    "       92       12,65        7,27       B\n",
    "       93       13,35        7,87       B\n",
    "       94       10,46        6,64       B\n",
    "       95       14,24        7,45       B\n",
    "       96       15,65        8,94       B\n",
    "       97       10,18        6,36       B\n",
    "       98       16,23        9,77       B\n",
    "       99       11,03        6,73       B\n",
    "      100       13,52        9,14       B\n",
    "      101       13,27       13,92       C\n",
    "      102       14,40       16,58       C\n",
    "      103       14,50       17,39       C\n",
    "      104       14,20       16,70       C\n",
    "      105       14,62       17,22       C\n",
    "      106       13,05       12,20       C\n",
    "      107       14,43       16,31       C\n",
    "      108       13,51       15,12       C\n",
    "      109       14,63       17,00       C\n",
    "      110       15,36       16,95       C\n",
    "      111       14,24       17,55       C\n",
    "      112       13,82       15,46       C\n",
    "      113       14,52       18,90       C\n",
    "      114       15,43       19,00       C\n",
    "      115       14,58       17,01       C\n",
    "      116       12,87       14,26       C\n",
    "      117       15,37       18,91       C\n",
    "      118       15,61       19,00       C\n",
    "      119       15,12       17,84       C\n",
    "      120       13,64       15,49       C\n",
    "      121       15,12       16,51       C\n",
    "      122       14,93       18,94       C\n",
    "      123       14,36       14,94       C\n",
    "      124       13,22       14,57       C\n",
    "      125       15,13       18,92       C\n",
    "      126       13,13       13,06       C\n",
    "      127       15,96       19,44       C\n",
    "      128       14,19       15,60       C\n",
    "      129       12,12       11,36       C\n",
    "      130       13,04       13,08       C\n",
    "      131       15,48       19,05       C\n",
    "      132       14,07       15,72       C\n",
    "      133       11,20        8,88       C\n",
    "      134       14,21       15,87       C\n",
    "      135       14,22       16,54       C\n",
    "      136       13,71       15,61       C\n",
    "      137       13,09       14,94       C\n",
    "      138       13,76       16,03       C\n",
    "      139       13,99       14,07       C\n",
    "      140       12,64       13,60       C\n",
    "      141       15,13       18,25       C\n",
    "      142       12,42       12,40       C\n",
    "      143       13,19       13,51       C\n",
    "      144       13,24       14,85       C\n",
    "      145       12,99       13,81       C\n",
    "      146       14,66       15,51       C\n",
    "      147       13,94       14,83       C\n",
    "      148       13,36       15,05       C\n",
    "      149       14,19       16,43       C\n",
    "      150       13,33       14,21       C"
   ]
  },
  {
   "cell_type": "markdown",
   "metadata": {},
   "source": [
    "---"
   ]
  },
  {
   "cell_type": "markdown",
   "metadata": {
    "slideshow": {
     "slide_type": "slide"
    }
   },
   "source": [
    "Análisis Exploratorio de Datos\n",
    "===\n",
    "\n",
    "**Juan David Velásquez Henao**  \n",
    "jdvelasq@unal.edu.co   \n",
    "Universidad Nacional de Colombia, Sede Medellín  \n",
    "Facultad de Minas  \n",
    "Medellín, Colombia\n"
   ]
  }
 ],
 "metadata": {
  "kernel_info": {
   "name": "python3"
  },
  "kernelspec": {
   "display_name": "Python 3",
   "language": "python",
   "name": "python3"
  },
  "language_info": {
   "codemirror_mode": {
    "name": "ipython",
    "version": 3
   },
   "file_extension": ".py",
   "mimetype": "text/x-python",
   "name": "python",
   "nbconvert_exporter": "python",
   "pygments_lexer": "ipython3",
   "version": "3.6.4"
  },
  "nteract": {
   "version": "0.7.1"
  },
  "varInspector": {
   "cols": {
    "lenName": 16,
    "lenType": 16,
    "lenVar": 40
   },
   "kernels_config": {
    "python": {
     "delete_cmd_postfix": "",
     "delete_cmd_prefix": "del ",
     "library": "var_list.py",
     "varRefreshCmd": "print(var_dic_list())"
    },
    "r": {
     "delete_cmd_postfix": ") ",
     "delete_cmd_prefix": "rm(",
     "library": "var_list.r",
     "varRefreshCmd": "cat(var_dic_list()) "
    }
   },
   "types_to_exclude": [
    "module",
    "function",
    "builtin_function_or_method",
    "instance",
    "_Feature"
   ],
   "window_display": false
  }
 },
 "nbformat": 4,
 "nbformat_minor": 2
}
