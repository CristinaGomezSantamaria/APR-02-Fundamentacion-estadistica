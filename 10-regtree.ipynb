{
 "cells": [
  {
   "cell_type": "markdown",
   "metadata": {},
   "source": [
    "Árboles de Clasificación\n",
    "===\n",
    "\n",
    "**Juan David Velásquez Henao**  \n",
    "jdvelasq@unal.edu.co   \n",
    "Universidad Nacional de Colombia, Sede Medellín  \n",
    "Facultad de Minas  \n",
    "Medellín, Colombia"
   ]
  },
  {
   "cell_type": "markdown",
   "metadata": {},
   "source": [
    "# Definición del problema real"
   ]
  },
  {
   "cell_type": "markdown",
   "metadata": {},
   "source": [
    "Se desea determinar a cuál clase ($A$, $B$, $C$) pertenece un elemento, a partir de resultados previamente recolectados."
   ]
  },
  {
   "cell_type": "markdown",
   "metadata": {},
   "source": [
    "# Definición del problema en términos de los datos"
   ]
  },
  {
   "cell_type": "markdown",
   "metadata": {},
   "source": [
    "Se tiene una muestra de 16 ejemplos para los cuales se han medido sus características $x_1$ y $x_2$ y su respectiva clase. Los puntos son presentados en la siguiente figura.\n",
    "\n",
    "![plot](images/tree-exercise.jpg)\n",
    "\n",
    "Se desea determinar a que clase pertenece un nuevo punto con coordenadas $x_1$ y $x_2$."
   ]
  },
  {
   "cell_type": "markdown",
   "metadata": {},
   "source": [
    "# Metodología de árboles de decisión"
   ]
  },
  {
   "cell_type": "markdown",
   "metadata": {},
   "source": [
    "La metodología de árboles de decisión se basa en la partición del espacio de entrada (las variables o características medibles) en regiones buscando separar en cada región un grupo de elementos que pertenecen a una clase particular. En la siguiente figura se tienen dos clases separables en un espacio de dos dimensiones ($x_1$ y $x_2$); haciendo la analogía con el problema real, los 1 podrían representar la clase A y los 2 las demás clases. En general, en un árbol de decisión se busca encontrar fronteras lineales paralelas a los ejes que permitan clasificar correctamente los datos. Para este ejemplo (figura izquierda), se podría decir que: \n",
    "\n",
    "$$\\text{if } x_1~>~3 \\Longrightarrow C=2 \\text{  else  } C=1$$\n",
    "\n",
    "Pero igualmente, es posible decir que (figura derecha):\n",
    "\n",
    "$$\\text{if } x_2~>~4 \\Longrightarrow C=2 \\text{  else  } C=1$$"
   ]
  },
  {
   "cell_type": "markdown",
   "metadata": {},
   "source": [
    "<img src=\"images/rules1.jpg\" width=600>"
   ]
  },
  {
   "cell_type": "markdown",
   "metadata": {},
   "source": [
    "Note que cada una de los dos regiones obtenidas puede seguir particionándose cuanto sea necesario. Este procedimiento se conoce como particionamiento recursivo y permite generar varias subregiones como las presentadas a continuación."
   ]
  },
  {
   "cell_type": "markdown",
   "metadata": {},
   "source": [
    "<img src=\"images/10-tree.jpg\" width=500>"
   ]
  },
  {
   "cell_type": "markdown",
   "metadata": {},
   "source": [
    "La figura anterior (izquierda) puede interpretarse como un conjunto de reglas if anidadas:\n",
    "\n",
    "    if x2 > C then \n",
    "       class = azul\n",
    "    else\n",
    "       if x1 < A then\n",
    "           class = verde\n",
    "       else\n",
    "           if x2 < B then \n",
    "               class = rojo\n",
    "           else\n",
    "               class = amarillo\n",
    "           end if\n",
    "       end if\n",
    "    end if\n",
    "    \n",
    "Y estas reglas se pueden interpretar como el árbol de decision que aparece en la misma figura. Para decidir que región asignar a un nuevo punto ($x_1$, $x_2$) simplemente se recorre el árbol de decisión usando los valores $x_1$ y $x_2$."
   ]
  },
  {
   "cell_type": "markdown",
   "metadata": {},
   "source": [
    "El algoritmo de particionamiento opera de la siguiente manera. Se tienen únicamente dos atributos $x_1$ y $x_2$, y un total de $N$ ejemplos para construir el árbol. Para construir la primera instancia, se construyen todos los árboles posibles de profunidad 1 (un nodo). El primer árbol se construye usando como frontera de decisión el primer valor de $x_1$ en la muestra del ejemplo (véase la figura de abajo); el segundo árbol se construye con el segundo valor, y así sucesivamente. Una vez se recorren todos los valores de $x_1$, se recorren todos los valores de $x_2$ y así sucesivamente hasta agotar todas las variables explicativas (atributos).   "
   ]
  },
  {
   "cell_type": "markdown",
   "metadata": {},
   "source": [
    "![alt text](images/C50-rule1.jpg)"
   ]
  },
  {
   "cell_type": "markdown",
   "metadata": {},
   "source": [
    "La mejor partición se escoje como aquella que clasifica el mayor número de ejemplos correctamente (o una métrica equivente) y se obtiene un primer árbol. Esto equivale a encontra la mejor partición de todo el espacio de características en dos regiones que clasifiquen de mejor forma los ejemplos usandos para el entrenamiento del modelo (véase la parte derecha de la figura anterior). En la figura anterior, se supone que la mejor clasificación se obtiene usando como punto de corte el dato `x1[4]`."
   ]
  },
  {
   "cell_type": "markdown",
   "metadata": {},
   "source": [
    "El algoritmo continua obteniendo una tercera región y para ello se debe decidir cuál de las dos regiones existentes se parte y en que orientación va dicho corte. El algoritmo prueba nuevamente cada punto del conjunto de datos como punto de corte de la siguiente manera: se hace `x1[1]` el nuevo punto de corte; si `x1[1]` está a la izquierda de `x1[4]`, se esta partiendo dicha región y por lo tanto se agrega esta nueva partición en la parte correspondiente de la regla (primera partición de la figura de abajo). Se hace `x1[2]` el nuevo punto de corte; si se asume que `x1[2]` esta a la derecha de `x1[4]` entonces se agrega a la parte `else` del modelo óptimo; se procede así sucesivamente hasta hasta obtener todos los modelos posibles con dos cortes. Asumiendo que el mejor corte se obtiene para `x2[6]`, el árbol queda como se presenta en el conjunto de reglas de la parte derecha de la siguiente figura.   "
   ]
  },
  {
   "cell_type": "markdown",
   "metadata": {},
   "source": [
    "![alt text](images/C50-rule2.jpg)"
   ]
  },
  {
   "cell_type": "markdown",
   "metadata": {},
   "source": [
    "El proceso continua agregando un tercer corte, luego un cuarto y así sucesivamente. De ahí que el proceso se conozca como particionamiento recursivo."
   ]
  },
  {
   "cell_type": "markdown",
   "metadata": {},
   "source": [
    "Nótese que el proceso puede realizarse hasta que se asigne una región única a cada uno de los datos, lo que resulta erróneo ya que el modelo simplemente memoriza la información usada para el entrenamiento (explique que es esto!). El proceso de crecimiento del árbol de decisión puede deternerse asignando un máximo a la profundidad del árbol (early stoping) o limitando la cantidad mínima de puntos que puede contener una región (pre-pruning)."
   ]
  },
  {
   "cell_type": "markdown",
   "metadata": {},
   "source": [
    "---\n",
    "**Ejercicio.--** Cómo se modifica el algoritmo descrito para introducir como restricción la cantidad mínima de puntos que debe tener una región?\n",
    "\n",
    "**Ejercicio.--** Cómo opera el algoritmo cuando las variables son categóricas?\n",
    "\n",
    "---"
   ]
  },
  {
   "cell_type": "markdown",
   "metadata": {},
   "source": [
    "Otra forma es permitir el crecimiento del árbol y luego proceder a reducir su tamaño eliminando regiones una a la vez (post-pruning). El algoritmo C5.0 permite el crecimiento del árbol hasta alcanzar el sobre entrenamiento del modelo y luego elimina los nodos (reglas if) que aportan poco al modelo."
   ]
  },
  {
   "cell_type": "markdown",
   "metadata": {},
   "source": [
    "---\n",
    "**Ejercicio.--** Aplique el algoritmo a los datos propuestos al inicio de este tutorial y construya el árbol de decisión.\n",
    "\n",
    "---"
   ]
  },
  {
   "cell_type": "markdown",
   "metadata": {},
   "source": [
    "Árboles de Clasificación\n",
    "===\n",
    "\n",
    "**Juan David Velásquez Henao**  \n",
    "jdvelasq@unal.edu.co   \n",
    "Universidad Nacional de Colombia, Sede Medellín  \n",
    "Facultad de Minas  \n",
    "Medellín, Colombia"
   ]
  }
 ],
 "metadata": {
  "kernel_info": {
   "name": "python3"
  },
  "kernelspec": {
   "display_name": "Python 3",
   "language": "python",
   "name": "python3"
  },
  "language_info": {
   "codemirror_mode": {
    "name": "ipython",
    "version": 3
   },
   "file_extension": ".py",
   "mimetype": "text/x-python",
   "name": "python",
   "nbconvert_exporter": "python",
   "pygments_lexer": "ipython3",
   "version": "3.6.4"
  },
  "nteract": {
   "version": "0.7.1"
  },
  "varInspector": {
   "cols": {
    "lenName": 16,
    "lenType": 16,
    "lenVar": 40
   },
   "kernels_config": {
    "python": {
     "delete_cmd_postfix": "",
     "delete_cmd_prefix": "del ",
     "library": "var_list.py",
     "varRefreshCmd": "print(var_dic_list())"
    },
    "r": {
     "delete_cmd_postfix": ") ",
     "delete_cmd_prefix": "rm(",
     "library": "var_list.r",
     "varRefreshCmd": "cat(var_dic_list()) "
    }
   },
   "types_to_exclude": [
    "module",
    "function",
    "builtin_function_or_method",
    "instance",
    "_Feature"
   ],
   "window_display": false
  }
 },
 "nbformat": 4,
 "nbformat_minor": 2
}
