{
 "cells": [
  {
   "cell_type": "markdown",
   "metadata": {},
   "source": [
    "Agrupamiento \n",
    "===\n",
    "\n",
    "**Juan David Velásquez Henao**  \n",
    "jdvelasq@unal.edu.co   \n",
    "Universidad Nacional de Colombia, Sede Medellín  \n",
    "Facultad de Minas  \n",
    "Medellín, Colombia"
   ]
  },
  {
   "cell_type": "markdown",
   "metadata": {},
   "source": [
    "# Definición del problema real"
   ]
  },
  {
   "cell_type": "markdown",
   "metadata": {},
   "source": [
    "A un museo ha llegado una donación de mesas antiguas y el historiador encargado desea distribuirlas de tal forma que sean restauradas en un centro especializado en las carcaterísticas de cada una. Para ello, desea poder clasificar las mesas en grupos de acuerdo con su largo y ancho para posteriormente enviarlas al taller correspondiente. "
   ]
  },
  {
   "cell_type": "markdown",
   "metadata": {},
   "source": [
    "# Definición del problema en términos de los datos"
   ]
  },
  {
   "cell_type": "markdown",
   "metadata": {},
   "source": [
    "Se tienen 60 observaciones para las variables 'Ancho(x1)' y 'Largo (x2)', que corresponden a las variables preliminares tomadas por el coleccionista. Se desea determinar si las observaciones están agrupadas en regiones que pueden ser interpretadas posteriormente en términos del conocimiento existente sobre la población de interés.\n",
    "\n",
    "Las observaciones aparecen al final de este archivo.\n",
    "     \n"
   ]
  },
  {
   "cell_type": "markdown",
   "metadata": {},
   "source": [
    "# Solución"
   ]
  },
  {
   "cell_type": "markdown",
   "metadata": {},
   "source": [
    "## Definición del problema"
   ]
  },
  {
   "cell_type": "markdown",
   "metadata": {},
   "source": [
    "Este es el problema inverso al de clasificación. En la siguiente figura se desea determinar cuántos grupos existen en un conjunto de datos y los centroides de dichos grupos; cada centroide representa a los miembros de su grupo.   \n",
    "\n",
    "<img src=\"images/k-means-1.jpg\" width=400>\n",
    "\n",
    "Nóte que en este ejemplo resulta fácil de visualizar ya que es un problema de dos dimensiones. En la realidad esto es completamente inusual."
   ]
  },
  {
   "cell_type": "markdown",
   "metadata": {},
   "source": [
    "## Algoritmo k-means\n",
    "\n",
    "El algoritmo k-means se basa en asignar $n$ ejemplos a uno de $k$ grupos posibles. La notación usada es la siguiente:\n",
    "\n",
    "\n",
    "* $S_i$ representa el conjunto de patrones del grupo $i$.\n",
    "\n",
    "\n",
    "* La pertenencia del ejemplo (patrón) $x_j$ al grupo $S_i$ se representa como $x_j \\in S_i$. \n",
    "\n",
    "\n",
    "* $u_i$ representa el centro del grupo $i$.\n",
    "\n",
    "\n",
    "El algoritmo asigna el ejemplo $x_j$ al grupo al que pertenece el centroide más cercano $u_i$. Si se tienen tres grupos ($k=3$), cuyos centroides (representados por los rectángulos) son generados aleatoriamente, los puntos serían asignados a cada grupo de la siguiente forma:\n",
    "\n",
    "<img src=\"images/k-means-2.jpg\" width=400>"
   ]
  },
  {
   "cell_type": "markdown",
   "metadata": {},
   "source": [
    "---\n",
    "**Ejercicio.--** Para los siguientes centros de clusters (9.96, 13.31), (13.24, 8.58) y (14.58, 17.01) asigne cada ejemplo de la tabla en el archivo `06-kmeans.xlsx` a uno de los clusters.\n",
    "\n",
    "---"
   ]
  },
  {
   "cell_type": "markdown",
   "metadata": {},
   "source": [
    "En el algoritmo k-means, se pretende minimizar la distancia entre los miembros de cada grupo y maximizar la distancia entre grupos.  Para ello, en este algoritmo se minimiza:\n",
    "\n",
    "$$ \\sum_{i=1}^k \\sum_{x_j \\in S_i} \\| x_j - u_i \\|^2$$\n",
    "\n",
    "Este proceso se realiza en dos fases:\n",
    "\n",
    "\n",
    "* Paso 1: Dados los centros de los clusters $u_i$, cada punto $x_j$ se asigna al cluster más cercano. En esta fase se asignan todos los ejemplos de la muestra de datos a un cluster (Ejercicio anterior).\n",
    "\n",
    "\n",
    "* Paso 2: Se recalcula cada centro $u_i$ como el promedio de los puntos $x_j$ que pertenecen a él.\n",
    "\n",
    "\n",
    "El algoritmo se detiene cuando ningún punto cambia de cluster. Este caso es ejemplificado en la siguiente figura."
   ]
  },
  {
   "cell_type": "markdown",
   "metadata": {},
   "source": [
    "<img src=\"images/k-means-3.jpg\" width=400>"
   ]
  },
  {
   "cell_type": "markdown",
   "metadata": {},
   "source": [
    "---\n",
    "**Ejercicio.--** Compute los nuevos centros de los clusters y asigne nuevamente los ejemplos a los clusters hasta que el algoritmo converja.\n",
    "\n",
    "---"
   ]
  },
  {
   "cell_type": "markdown",
   "metadata": {},
   "source": [
    "## Métricas de distancia"
   ]
  },
  {
   "cell_type": "markdown",
   "metadata": {},
   "source": [
    "Existen distintas métricas para computar la distancia entre puntos. "
   ]
  },
  {
   "cell_type": "markdown",
   "metadata": {},
   "source": [
    "**Euclidiana.** \n",
    "\n",
    "$$ \\text{dist}(x_i, x_j) =\\left\\{ \\sum_k (x_{ik} - x_{jk})^2 \\right\\}^\\frac{1}{2}$$\n",
    "\n",
    "**Manhattan.**\n",
    "\n",
    "$$ \\text{dist}(x_i, x_j) = \\sum_k \\left|x_{ik} - x_{jk}\\right| $$\n",
    "\n",
    "\n",
    "**Chebychev**.\n",
    "\n",
    "$$ \\text{dist}(x_i, x_j) = \\max_k \\left|x_{ik} - x_{jk}\\right| $$\n",
    "\n",
    "\n"
   ]
  },
  {
   "cell_type": "markdown",
   "metadata": {},
   "source": [
    "## Escalamiento y transformación de variables"
   ]
  },
  {
   "cell_type": "markdown",
   "metadata": {},
   "source": [
    "El algoritmo k-means se ve afectado por la escala de las variables. Por ello, se debe realizar la transformación de las variables antes de aplicar k-means."
   ]
  },
  {
   "cell_type": "markdown",
   "metadata": {},
   "source": [
    "**Normalización max-min.** \n",
    "\n",
    "$$x_* = \\frac{x-\\min(x)}{\\max(x) - \\min(x)}$$"
   ]
  },
  {
   "cell_type": "markdown",
   "metadata": {},
   "source": [
    "**Estandarización z-score.**\n",
    "\n",
    "$$z_* = \\frac{x-\\mu_x}{\\sigma_x}$$\n",
    "\n",
    "* $\\mu_x$ es la media de $x$.\n",
    "* $\\sigma_x$ es la desviación estándar de $x$."
   ]
  },
  {
   "cell_type": "markdown",
   "metadata": {},
   "source": [
    "**Variables nominales.** Una variable nominal con categorías $C_1$, $C_2$, ..., $C_n$ se codifica con $n-1$ niveles, $L_i$, $i=1,...,n-1$:\n",
    "\n",
    "$$ L_i =\n",
    "   \\begin{cases}\n",
    "      1, & \\text{if $x \\in C_i$.} \\\\\n",
    "      0, &\\text{En caso contrario.}\n",
    "   \\end{cases}\n",
    "$$\n"
   ]
  },
  {
   "cell_type": "markdown",
   "metadata": {},
   "source": [
    "Si las categorías están ordenadas se codifica como:\n",
    "\n",
    "$$ L_i =\n",
    "   \\begin{cases}\n",
    "      i, & \\text{if $x \\in C_i$.} \\\\\n",
    "      0, &\\text{En caso contrario.}\n",
    "   \\end{cases}\n",
    "$$\n",
    "\n",
    "y luego es realiza la normalización."
   ]
  },
  {
   "cell_type": "markdown",
   "metadata": {},
   "source": [
    "# k-medoids"
   ]
  },
  {
   "cell_type": "markdown",
   "metadata": {},
   "source": [
    "En esta variación del algoritmo, los centros (medoids) de cada cluster son puntos de la muestra de datos; esto es, el centro de cada cluster es uno de los puntos asignados al cluster. El algoritmo opera de forma similar a k-means:\n",
    "\n",
    "* Paso 1: Se seleccionan $k$ puntos como centros de los clusters.\n",
    "\n",
    "* Paso 2: Para todos los clusters se verifica si alguno de los miembros del cluster disminuye la métrica de distancia utilizada. En caso afirmativo, este punto pasa a ser el nuevo centro del cluster. En caso negativo, hay convergencia del algoritmo.\n",
    "\n",
    "* Paso 3: Se asignan los puntos al cluster con centro más cercano y se retorna al Paso 2. "
   ]
  },
  {
   "cell_type": "markdown",
   "metadata": {},
   "source": [
    "# k-means++\n",
    "\n",
    "Este algoritmo es similar al algoritmo k-means, con la diferencia que los nuevos centros de los clusters son generados de forma aleatoria."
   ]
  },
  {
   "cell_type": "markdown",
   "metadata": {},
   "source": [
    "---"
   ]
  },
  {
   "cell_type": "markdown",
   "metadata": {},
   "source": [
    "       #  Ancho (x1). Largo x(2)\n",
    "       1       10,67       14,70\n",
    "       2        9,74       13,79\n",
    "       3       10,23       14,30\n",
    "       4       11,17       15,53\n",
    "       5       10,41       15,08\n",
    "       6       11,14       14,45\n",
    "       7       10,12       12,95\n",
    "       8        9,58       13,76\n",
    "       9       11,16       15,21\n",
    "      10       10,08       13,53\n",
    "      11        9,96       13,31\n",
    "      12        9,17       12,41\n",
    "      13       11,52       16,01\n",
    "      14       11,27       15,41\n",
    "      15        8,72       11,66\n",
    "      16       11,30       15,11\n",
    "      17        9,70       13,56\n",
    "      18        8,69       11,81\n",
    "      19       10,99       16,28\n",
    "      20       10,82       14,41\n",
    "      21       10,87        6,91\n",
    "      22       11,95        6,05\n",
    "      23       12,77        7,97\n",
    "      24       13,25        8,03\n",
    "      25       14,42        9,25\n",
    "      26       16,03        9,88\n",
    "      27       12,23        6,97\n",
    "      28       13,24        8,58\n",
    "      29       10,88        6,15\n",
    "      30       15,85        9,51\n",
    "      31       11,63        7,28\n",
    "      32       13,41        8,35\n",
    "      33       11,71        6,37\n",
    "      34       12,49        7,60\n",
    "      35       14,46        8,21\n",
    "      36       15,00       10,11\n",
    "      37       12,24        7,16\n",
    "      38       13,68        8,12\n",
    "      39       15,06        8,47\n",
    "      40       12,78        8,74\n",
    "      41       13,27       13,92\n",
    "      42       14,40       16,58\n",
    "      43       14,50       17,39\n",
    "      44       14,20       16,70\n",
    "      45       14,62       17,22\n",
    "      46       13,05       12,20\n",
    "      47       14,43       16,31\n",
    "      48       13,51       15,12\n",
    "      49       14,63       17,00\n",
    "      50       15,36       16,95\n",
    "      51       14,24       17,55\n",
    "      52       13,82       15,46\n",
    "      53       14,52       18,90\n",
    "      54       15,43       19,00\n",
    "      55       14,58       17,01\n",
    "      56       12,87       14,26\n",
    "      57       15,37       18,91\n",
    "      58       15,61       19,00\n",
    "      59       15,12       17,84\n",
    "      60       13,64       15,49"
   ]
  },
  {
   "cell_type": "markdown",
   "metadata": {},
   "source": [
    "---"
   ]
  },
  {
   "cell_type": "markdown",
   "metadata": {},
   "source": [
    "Agrupamiento \n",
    "===\n",
    "\n",
    "**Juan David Velásquez Henao**  \n",
    "jdvelasq@unal.edu.co   \n",
    "Universidad Nacional de Colombia, Sede Medellín  \n",
    "Facultad de Minas  \n",
    "Medellín, Colombia"
   ]
  }
 ],
 "metadata": {
  "kernel_info": {
   "name": "python3"
  },
  "kernelspec": {
   "display_name": "Python 3",
   "language": "python",
   "name": "python3"
  },
  "language_info": {
   "codemirror_mode": {
    "name": "ipython",
    "version": 3
   },
   "file_extension": ".py",
   "mimetype": "text/x-python",
   "name": "python",
   "nbconvert_exporter": "python",
   "pygments_lexer": "ipython3",
   "version": "3.6.4"
  },
  "nteract": {
   "version": "0.7.1"
  },
  "varInspector": {
   "cols": {
    "lenName": 16,
    "lenType": 16,
    "lenVar": 40
   },
   "kernels_config": {
    "python": {
     "delete_cmd_postfix": "",
     "delete_cmd_prefix": "del ",
     "library": "var_list.py",
     "varRefreshCmd": "print(var_dic_list())"
    },
    "r": {
     "delete_cmd_postfix": ") ",
     "delete_cmd_prefix": "rm(",
     "library": "var_list.r",
     "varRefreshCmd": "cat(var_dic_list()) "
    }
   },
   "types_to_exclude": [
    "module",
    "function",
    "builtin_function_or_method",
    "instance",
    "_Feature"
   ],
   "window_display": false
  }
 },
 "nbformat": 4,
 "nbformat_minor": 2
}
