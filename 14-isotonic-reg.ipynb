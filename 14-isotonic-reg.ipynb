{
 "cells": [
  {
   "cell_type": "markdown",
   "metadata": {},
   "source": [
    "Regresión Isotónica\n",
    "===\n",
    "\n",
    "**Juan David Velásquez Henao**  \n",
    "jdvelasq@unal.edu.co   \n",
    "Universidad Nacional de Colombia, Sede Medellín  \n",
    "Facultad de Minas  \n",
    "Medellín, Colombia\n",
    "\n",
    "---\n",
    "\n",
    "Haga click [aquí](https://github.com/jdvelasq/statistics-for-analytics/tree/master/) para acceder al repositorio online.\n",
    "\n",
    "Haga click [aquí](http://nbviewer.jupyter.org/github/jdvelasq/statistics-for-analytics/tree/master/) para explorar el repositorio usando `nbviewer`. "
   ]
  },
  {
   "cell_type": "markdown",
   "metadata": {},
   "source": [
    "---"
   ]
  },
  {
   "cell_type": "markdown",
   "metadata": {},
   "source": [
    "# Definición del problema real"
   ]
  },
  {
   "cell_type": "markdown",
   "metadata": {},
   "source": [
    "TO DO"
   ]
  },
  {
   "cell_type": "markdown",
   "metadata": {},
   "source": [
    "# Definición del problema en términos de los datos"
   ]
  },
  {
   "cell_type": "markdown",
   "metadata": {},
   "source": [
    "Se desea construir un modelo que permita pronósticar el valor de $y$ a partir del valor de $x$. Se tiene un conjunto de 30 observaciones para construir el modelo de pronóstico. La información recolectada es la siguiente:\n",
    "\n",
    "     #       x       y\n",
    "    --------------------\n",
    "     1   -2.22   -4.69\n",
    "     2   -1.50   -2.94\n",
    "     3   -1.37   -1.67\n",
    "     4   -0.88   -1.10\n",
    "     5   -0.73   -0.19\n",
    "     6   -0.67   -1.29\n",
    "     7   -0.66   -1.06\n",
    "     8   -0.60    9.43\n",
    "     9   -0.30    0.52\n",
    "    10   -0.18   -1.03\n",
    "    11   -0.15    0.26\n",
    "    12   -0.16    0.64\n",
    "    13   -0.14   -0.49\n",
    "    14   -0.02    0.42\n",
    "    15    0.18    7.92\n",
    "    16    0.65    0.47\n",
    "    17    0.66    1.11\n",
    "    18    0.73    6.58\n",
    "    19    0.81    1.43\n",
    "    20    0.90    0.85\n",
    "    21    0.92    1.31\n",
    "    22    0.97    1.49\n",
    "    23    1.03    1.11\n",
    "    24    1.29    2.23\n",
    "    25    1.41    1.17\n",
    "    26    1.56    2.40\n",
    "    27    1.79    2.05\n",
    "    28    1.93    3.48\n",
    "    29    2.10    2.95\n",
    "    30    2.45    4.68     \n",
    "     "
   ]
  },
  {
   "cell_type": "markdown",
   "metadata": {},
   "source": [
    "# Solución"
   ]
  },
  {
   "cell_type": "markdown",
   "metadata": {},
   "source": [
    "## Definición del modelo de regresión isotónica"
   ]
  },
  {
   "cell_type": "markdown",
   "metadata": {},
   "source": [
    "A diferencia del modelo de regresión lineal, en la regresión isotónica no interviene $x$. En este modelo se desea encontrar el conjunto de valores  $\\{\\beta_i; i=1,...,n\\}$ con $\\beta_1 \\le \\beta_2 \\le ... \\le \\beta_n$, tal que se minimice:\n",
    "\n",
    "\n",
    "$$\\sum_{i=1}^n \\; w_i \\; (y_i - \\beta_i)^2$$\n",
    "\n",
    "\n"
   ]
  },
  {
   "cell_type": "markdown",
   "metadata": {},
   "source": [
    "## Estimación"
   ]
  },
  {
   "cell_type": "markdown",
   "metadata": {},
   "source": [
    "La estimación se hace punto a punto, del segundo hacia el último. Para el primer punto se hace $\\beta_1 = y_1$. Si $y_i \\gt y_{i+1}$, \n",
    "\n",
    "Si $y_i \\ge y_{i+1}$ entonces $\\beta_i = \\beta_{i+1}$; tal que:\n",
    "\n",
    "$$w_i = w_{i+1}= w_i + w_{i+1}$$\n",
    "\n",
    "$$\\beta_i = \\beta_{i+1} = \\frac{w_i y_i + w_{i+1}y_{i+1}}{w_i + w_{i+1}}$$\n",
    "\n",
    "Es posible que ya no se cumpla que $\\beta_{i-1} \\le \\beta_{i}$, por lo que es necesario realizar una nueva combinación entre $\\beta_{i-1}$ y $\\beta_i$; el nuevo valor de la combinación para $\\beta_{i-1}=\\beta_i$ también se asigna al punto $\\beta_{i+1}$. "
   ]
  },
  {
   "cell_type": "markdown",
   "metadata": {},
   "source": [
    "---\n",
    "**Ejercicio.--** Estime los parámetros del modelo usando Microsoft Excel.\n",
    "\n",
    "---"
   ]
  },
  {
   "cell_type": "markdown",
   "metadata": {},
   "source": [
    "Regresión Isotónica\n",
    "===\n",
    "\n",
    "**Juan David Velásquez Henao**  \n",
    "jdvelasq@unal.edu.co   \n",
    "Universidad Nacional de Colombia, Sede Medellín  \n",
    "Facultad de Minas  \n",
    "Medellín, Colombia\n",
    "\n",
    "---\n",
    "\n",
    "Haga click [aquí](https://github.com/jdvelasq/statistics-for-analytics/tree/master/) para acceder al repositorio online.\n",
    "\n",
    "Haga click [aquí](http://nbviewer.jupyter.org/github/jdvelasq/statistics-for-analytics/tree/master/) para explorar el repositorio usando `nbviewer`. "
   ]
  }
 ],
 "metadata": {
  "kernel_info": {
   "name": "python3"
  },
  "kernelspec": {
   "display_name": "R",
   "language": "R",
   "name": "ir"
  },
  "language_info": {
   "codemirror_mode": "r",
   "file_extension": ".r",
   "mimetype": "text/x-r-source",
   "name": "R",
   "pygments_lexer": "r",
   "version": "3.4.4"
  },
  "nteract": {
   "version": "0.7.1"
  },
  "varInspector": {
   "cols": {
    "lenName": 16,
    "lenType": 16,
    "lenVar": 40
   },
   "kernels_config": {
    "python": {
     "delete_cmd_postfix": "",
     "delete_cmd_prefix": "del ",
     "library": "var_list.py",
     "varRefreshCmd": "print(var_dic_list())"
    },
    "r": {
     "delete_cmd_postfix": ") ",
     "delete_cmd_prefix": "rm(",
     "library": "var_list.r",
     "varRefreshCmd": "cat(var_dic_list()) "
    }
   },
   "types_to_exclude": [
    "module",
    "function",
    "builtin_function_or_method",
    "instance",
    "_Feature"
   ],
   "window_display": false
  }
 },
 "nbformat": 4,
 "nbformat_minor": 2
}
