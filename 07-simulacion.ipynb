{
 "cells": [
  {
   "cell_type": "markdown",
   "metadata": {
    "slideshow": {
     "slide_type": "slide"
    }
   },
   "source": [
    "Simulación\n",
    "===\n",
    "\n",
    "**Juan David Velásquez Henao**  \n",
    "jdvelasq@unal.edu.co   \n",
    "Universidad Nacional de Colombia, Sede Medellín  \n",
    "Facultad de Minas  \n",
    "Medellín, Colombia\n"
   ]
  },
  {
   "cell_type": "markdown",
   "metadata": {},
   "source": [
    "---"
   ]
  },
  {
   "cell_type": "markdown",
   "metadata": {},
   "source": [
    "# Definición y usos"
   ]
  },
  {
   "cell_type": "markdown",
   "metadata": {},
   "source": [
    "* Simulación es un técnica numérica para conducir experimentos en una computadora digital. Estos experimentos comprenden ciertos tipos de relaciones matemáticas y lógicas, las cuales son necesarias para describir el comportamiento y la estructura de sistemas complejos del mundo real a través de largos períodos de tiempo (T.H. Naylor).\n",
    "\n",
    "\n",
    "* Simulación es una técnica numérica para realizar experimentos en una computadora digital. Estos experimentos involucran ciertos tipos de modelos matemáticos y lógicos que describen el comportamiento de sistemas de negocios, económicos, sociales, biológicos, físicos o químicos a través de largos períodos de tiempo (H. Maisel y G. Gnugnoli).\n",
    "\n",
    "\n",
    "* Simulación es el proceso de diseñar y desarrollar un modelo computarizado de un sistema o proceso y conducir experimentos con este modelo con el propósito de entender el comportamiento del sistemao evaluar varias estrategias con las cuales se puede operar el sistema (R. E. Shannon)."
   ]
  },
  {
   "cell_type": "markdown",
   "metadata": {},
   "source": [
    "# Etapas para realizar un proceso de simulación\n",
    "\n",
    "La solución de un problema mediante simulación requiere las siguientes etapas:\n",
    "\n",
    "* Definición del sistema (y del problema). Variables, horizonte, comportamiento esperado.\n",
    "* Formulación del modelo (estructura).\n",
    "* Colección de datos.\n",
    "* Implementación del modelo en la computadora.\n",
    "* Validación del modelo.\n",
    "* Experimentación.\n",
    "* Interpretación.\n",
    "* Documentación del modelo y los resultados.\n"
   ]
  },
  {
   "cell_type": "markdown",
   "metadata": {},
   "source": [
    "# Factores a considerar\n",
    "\n",
    "Los factores a considerar en el uso de la simulación son los siguientes:\n",
    "\n",
    "* Generación de variables aleatorias no uniformes\n",
    "* Lenguajes de programación\n",
    "* Condiciones iniciales\n",
    "* Tamaño de la muestra\n",
    "* Diseño de experimentos."
   ]
  },
  {
   "cell_type": "markdown",
   "metadata": {},
   "source": [
    "# Ventajas del uso de la simulación\n",
    "\n",
    "Entre las principales ventajas del uso de la simulación están las siguientes:\n",
    "\n",
    "* Estudio del efecto de cambios internos y externos de un sistema.\n",
    "* Mejora del entendimiento y comprensión del sistema.\n",
    "* Uso como un instrumento pedagógico.\n",
    "* Experimentación con nuevas situaciones.\n",
    "* Uso como herramienta para el entrenamiento de personal.\n",
    "* Anticipación del efecto de nuevos elementos en un sistema.\n"
   ]
  },
  {
   "cell_type": "markdown",
   "metadata": {},
   "source": [
    "# Ejemplos típicos de usos de simulación\n",
    "\n",
    "La simulación es comúnmente utilizada para la solución de problemas relacionados con:\n",
    "\n",
    "* Sistema de colas.\n",
    "* Sistema de inventarios.\n",
    "* Sistemas económicos.\n",
    "* Estados financieros.\n"
   ]
  },
  {
   "cell_type": "markdown",
   "metadata": {},
   "source": [
    "**Ejercicio.--** Determine la probabilidad de quiebra para el juego de dados 7-11, también conocido como dados callejeros. Las reglas del juego son las siguientes:\n",
    "\n",
    "* El jugador tira los dados por primera vez.  \n",
    "    * Si saca 7 o 11 gana la apuesta inmediatamente.\n",
    "    * Si saca 2, 3 o 12 pierde la apuesta inmediatamente.\n",
    "    * Si saca 4, 5, 6, 8, 9, 10, sigue tirando los dados. \n",
    "\n",
    "\n",
    "* El jugador sigue tirando hasta que: \n",
    "    * Saque 7, en cuyo caso pierde.\n",
    "    * Saque la misma cantidad de la primera tirada, en cuyo caso gana.\n",
    "    * En cada juego se apuesta `$` 1 y se cuenta con un capital inicial de `$` 20.\n",
    "\n",
    "El jugador se retira si alcanza un capital de `$` 50.\n",
    "\n"
   ]
  },
  {
   "cell_type": "markdown",
   "metadata": {},
   "source": [
    "# Selección de las distribución de probabilidades de las variables de entrada\n",
    "\n",
    "Si hay suficientes datos se busca la distribución que mejor se ajusta a los datos (véase el tutorial anterior sobre este tema).\n",
    "\n",
    "\n",
    "Si no hay suficientes datos o ausencia de ellos se pueden utilizar distribuciones como la triangular, la cual aparece en la gráfica de abajo. \n",
    "\n",
    "![dist-triang](images/07-simulacion/dist-triang.jpg)\n",
    "\n",
    "Su distribución acumulada de probabilidad es:\n",
    "\n",
    "$$ F(X) =\n",
    "   \\begin{cases}      \n",
    "      \\frac{(x-L)^2}{(H-L)(M-L)}      \n",
    "      , & \\text{Para $L \\le x < M$}\\\\\n",
    "      \\\\\n",
    "      1 - \\frac{(H-x)^2}{(H-L)(H-M)}\n",
    "      , & \\text{Para $M \\le x \\le H$}\n",
    "   \\end{cases}\n",
    "$$\n",
    "\n",
    "$$\\text{E}(x) = \\frac{L+M+H}{3}$$\n",
    "\n",
    "$$\\text{Var}(x) = \\frac{1}{18} (L^2 + M^2 + H^2 - LH - MH - ML)$$"
   ]
  },
  {
   "cell_type": "markdown",
   "metadata": {},
   "source": [
    "# Análisis estadístico de los resultados de la simulación\n",
    "\n",
    "El análisis estadístico de los resultados de la simulación se realiza aplicando técnicas de análisis exploratorio de datos para determinar sus propiedades, y en particular, la media y la varianza muestrales."
   ]
  },
  {
   "cell_type": "markdown",
   "metadata": {},
   "source": [
    "**Calculo de la media muestral y la varianza muestral.--** Sea una secuencia $\\{x_i; i=1, ...,n\\}$ proveniente de una distribución poblacional $F$ desconocida con media $\\mu$ y varianza $\\sigma^2$. Por el Teorema Central del Límite:\n",
    "\n",
    "$$\\frac{\\bar{x}_n - \\mu}{\\sigma/\\sqrt{n}} \\sim N(0,1) \\quad \\text{con} \\quad \\bar{x}_n = \\frac{1}{n} \\sum_{i=1}^n x_i$$\n",
    "\n",
    "Entonces:\n",
    "\n",
    "$$\\text{Pr} \\left( \n",
    "-z_{\\alpha / 2} \\; \\le \\;   \\frac{\\bar{x}_n - \\mu}{\\sigma/\\sqrt{n}}  \\; \\le \\;   z_{\\alpha / 2} \n",
    "\\right) = 1 - \\alpha\n",
    "$$\n",
    "\n",
    "donde $z_{\\alpha / 2}$ es $F(z_{\\alpha / 2}) = 1 - \\alpha / 2$.\n",
    "\n",
    "\n",
    "Al despejar se obtiene que:\n",
    "\n",
    "$$\\text{Pr} \\left( \n",
    "\\bar{x}_n - z_{\\alpha / 2} \\frac{\\sigma}{\\sqrt{n}} \n",
    "\\; \\le \\;   \n",
    "\\mu\n",
    "\\; \\le \\;   \n",
    "\\bar{x}_n + z_{\\alpha / 2} \\frac{\\sigma}{\\sqrt{n}}\n",
    "\\right) = 1 - \\alpha\n",
    "$$\n",
    "\n",
    "que es la probabilidad de que $\\mu$ esté en el intervalo señalado. Ya que $\\sigma^2$ es desconocido, debe ser reemplazado por su estimación a partir de la muestra de datos.\n",
    "\n",
    "Ya que $\\bar{x}_n$ sigue una distribución para normal cuando $n$ tiende a infinito, entonces la normal se reemplaza por una distribución $t$ de Student con $n-1$ grados de libertad."
   ]
  },
  {
   "cell_type": "markdown",
   "metadata": {},
   "source": [
    "**Ejemplo.--** Cómo se puede estimar la media muestral con una precisión determinada $d$ pero se desconoce el valor adecuado de $n$.\n",
    "\n",
    "\n",
    "* Paso 1: Se selección un número inicial de simulaciones $n$, con $n \\le 30$.\n",
    "\n",
    "\n",
    "* Paso 2: Se realiza la simulación y se estiman $\\bar{x}_n$, $\\sigma^2_n$ y la precisión:\n",
    "\n",
    "$$t_{\\alpha / 2} \\frac{\\sigma}{\\sqrt{n}}$$\n",
    "\n",
    "\n",
    "* Paso 3: Si  $$t_{\\alpha / 2} \\frac{\\sigma}{\\sqrt{n}} \\; > \\; d$$ entonces se hace $n=n+1$ y se realiza una nueva simulación, con:\n",
    "$$\n",
    "\\bar{x}_{n+1} = \\bar{x}_n + \\frac{x_{n+1} - \\bar{x}_n}{n+1}\n",
    "$$\n",
    "$$\n",
    "\\sigma_{n+1}^2 = \\frac{1}{n} \\left\\{\n",
    "(n-1) \\sigma^2_n + n\\bar{x}_n + x^2_{n+1} - (n+1)\\bar{x}^2_{n+1}\n",
    "\\right\\}\n",
    "$$\n",
    "\n",
    "\n",
    "\n",
    "* Paso 4: Se vuelve al Paso 2."
   ]
  },
  {
   "cell_type": "markdown",
   "metadata": {},
   "source": [
    "---"
   ]
  },
  {
   "cell_type": "markdown",
   "metadata": {
    "slideshow": {
     "slide_type": "slide"
    }
   },
   "source": [
    "Simulación\n",
    "===\n",
    "\n",
    "**Juan David Velásquez Henao**  \n",
    "jdvelasq@unal.edu.co   \n",
    "Universidad Nacional de Colombia, Sede Medellín  \n",
    "Facultad de Minas  \n",
    "Medellín, Colombia\n"
   ]
  }
 ],
 "metadata": {
  "kernel_info": {
   "name": "python3"
  },
  "kernelspec": {
   "display_name": "Python 3",
   "language": "python",
   "name": "python3"
  },
  "language_info": {
   "codemirror_mode": {
    "name": "ipython",
    "version": 3
   },
   "file_extension": ".py",
   "mimetype": "text/x-python",
   "name": "python",
   "nbconvert_exporter": "python",
   "pygments_lexer": "ipython3",
   "version": "3.6.4"
  },
  "nteract": {
   "version": "0.7.1"
  },
  "varInspector": {
   "cols": {
    "lenName": 16,
    "lenType": 16,
    "lenVar": 40
   },
   "kernels_config": {
    "python": {
     "delete_cmd_postfix": "",
     "delete_cmd_prefix": "del ",
     "library": "var_list.py",
     "varRefreshCmd": "print(var_dic_list())"
    },
    "r": {
     "delete_cmd_postfix": ") ",
     "delete_cmd_prefix": "rm(",
     "library": "var_list.r",
     "varRefreshCmd": "cat(var_dic_list()) "
    }
   },
   "types_to_exclude": [
    "module",
    "function",
    "builtin_function_or_method",
    "instance",
    "_Feature"
   ],
   "window_display": false
  }
 },
 "nbformat": 4,
 "nbformat_minor": 2
}
