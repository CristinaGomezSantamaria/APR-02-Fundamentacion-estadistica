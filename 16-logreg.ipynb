{
 "cells": [
  {
   "cell_type": "markdown",
   "metadata": {},
   "source": [
    "Regresión Logística\n",
    "===\n",
    "\n",
    "**Juan David Velásquez Henao**  \n",
    "jdvelasq@unal.edu.co   \n",
    "Universidad Nacional de Colombia, Sede Medellín  \n",
    "Facultad de Minas  \n",
    "Medellín, Colombia\n",
    "\n",
    "---\n",
    "\n",
    "Haga click [aquí](https://github.com/jdvelasq/statistics-for-analytics/tree/master/) para acceder al repositorio online.\n",
    "\n",
    "Haga click [aquí](http://nbviewer.jupyter.org/github/jdvelasq/statistics-for-analytics/tree/master/) para explorar el repositorio usando `nbviewer`. "
   ]
  },
  {
   "cell_type": "markdown",
   "metadata": {},
   "source": [
    "---"
   ]
  },
  {
   "cell_type": "markdown",
   "metadata": {},
   "source": [
    "# Definición del problema real"
   ]
  },
  {
   "cell_type": "markdown",
   "metadata": {},
   "source": [
    "Se desea determinar a cuál clase ($A$, $B$ o $C$) pertenece un elemento, a partir de resultados previamente recolectados."
   ]
  },
  {
   "cell_type": "markdown",
   "metadata": {},
   "source": [
    "# Definición del problema en términos de los datos"
   ]
  },
  {
   "cell_type": "markdown",
   "metadata": {},
   "source": [
    "Se tiene una muestra de 16 ejemplos para los cuales se han medido sus características $x_1$ y $x_2$ y su respectiva clase. Los puntos son presentados en la siguiente figura.\n",
    "\n",
    "![plot](images/logreg/tree-exercise.jpg)\n",
    "\n",
    "Se desea determinar a que clase pertenece un nuevo punto con coordenadas $x_1$ y $x_2$."
   ]
  },
  {
   "cell_type": "markdown",
   "metadata": {},
   "source": [
    "# Regresión Logística"
   ]
  },
  {
   "cell_type": "markdown",
   "metadata": {},
   "source": [
    "En la regresión logística se desea construir un modelo que permite determinar si un patrón ($x_1$, $x_2$) pertenece a una clase determinada o no. Ya que el ejemplo presentado contiene más de dos clases debe ser recodificado; una forma es especificar un modelo que indique si ($x_1$, $x_2$) pertenece a la clase $A$ o al resto (las clases {$A$, $B$}); y otro modelo que indique si pertenece a la clase $B$ o no. Si el patrón no pertenece ni a $A$ ni a $B$, entonces pertenece a $C$. La secuencia de decisiones descrita puede ser representada por un árbol de decisiones."
   ]
  },
  {
   "cell_type": "markdown",
   "metadata": {},
   "source": [
    "A partir de este punto, el problema consiste en determinar si un patrón pertenece a una de dos clases mutuamente exclusivas y colectivamente exhaustivas (un patrón no puede pertenecer a las dos clases simultáneamente y cada patrón debe pertenecer a una clase de las dos clases posibles). Si se usa una variable indicadora $y$ que vale $1$ cuando el patrón pertenece a la clase $A$ y cero cuando no pertenece, entonces se podría plantear un modelo lineal de la forma:\n",
    "\n",
    "$$ y =\n",
    "   \\begin{cases}\n",
    "      1, & \\text{if $\\theta_0 + \\theta_1 x_1 + \\theta_2 x_2 > 0$} \\\\\n",
    "      \\\\\n",
    "      0, &\\text{en caso contrario.}\n",
    "   \\end{cases}\n",
    "$$\n",
    "\n",
    "La estimación de los parámetros del modelo de regresión en la ecuación anterior no puede realizarse usando regresión lineal.\n",
    "\n",
    "En la siguiente figura, se presenta un ejemplo con un grupo de puntos en el eje $X$ que pertenecen a una de dos clases; si $y=1$ el punto pertenece a la clase $A$ y en caso contrario a la clase $B$. Si se ajusta un modelo de regresión lineal de la forma:\n",
    "\n",
    "$$y = \\theta_0 + \\theta_1 x$$\n",
    "\n",
    "se obtiene la línea recta que aparece en dicha figura."
   ]
  },
  {
   "cell_type": "markdown",
   "metadata": {},
   "source": [
    "<img src=\"images/logreg/logreg-1.jpg\" width=500>"
   ]
  },
  {
   "cell_type": "markdown",
   "metadata": {},
   "source": [
    "Como puede observarse, el modelo no permite realizar la discriminación entre las clases de cada punto. Para ello, los valores de $y$ deben limitarse al intervalo $[0, 1]$.  "
   ]
  },
  {
   "cell_type": "markdown",
   "metadata": {},
   "source": [
    "La función logística es definida como:\n",
    "\n",
    "$$\\sigma(u) = \\frac{1}{1+\\exp(-u)}$$"
   ]
  },
  {
   "cell_type": "markdown",
   "metadata": {},
   "source": [
    "<img src=\"images/logreg/logreg-2.jpg\" width=500>"
   ]
  },
  {
   "cell_type": "markdown",
   "metadata": {},
   "source": [
    "La regresión logística se define como:\n",
    "\n",
    "$$y = \\sigma(\\theta_0 + \\theta_1 x_1 + \\theta_2 x_2)$$\n",
    "\n",
    "La cual puede interpretarse como la probabilidad de que el punto ($x_1$, $x_2$) pertenezca a la clase $A$."
   ]
  },
  {
   "cell_type": "markdown",
   "metadata": {},
   "source": [
    "Al aplicar la regresión logística al segundo ejemplo planteado se obtiene la línea roja de la figura de abajo, la cual representa la probabilidad de pertenencia de un punto a la clase $A$. Para $y$ = 0.5, hay una probabilidad del 50% de que el patrón pertenezca a la clase $A$ y 50% de que no pertenezca; este es un punto de indeterminación, de tal forma que el punto $x$ en que se da esta valor se conoce como frontera de decisión.  "
   ]
  },
  {
   "cell_type": "markdown",
   "metadata": {},
   "source": [
    "<img src=\"images/logreg/logreg-3.jpg\" width=500>"
   ]
  },
  {
   "cell_type": "markdown",
   "metadata": {},
   "source": [
    "En la siguiente figura se presenta un problema de clasificación para tres clases diferentes. Cada línea representa la frontera de decisión entre un grupo y los demás. Si las flechas indican la probabilidad de pertenencia a un grupo, noté que hay una región de indeterminación en el centro."
   ]
  },
  {
   "cell_type": "markdown",
   "metadata": {},
   "source": [
    "<img src=\"images/logreg/logreg-4.jpg\" width=300>"
   ]
  },
  {
   "cell_type": "markdown",
   "metadata": {},
   "source": [
    "**Ejercicio.--** Para los datos propuestos, estime tres regresiones logísticas que permitan determinar si un punto pertenece a un clase o al resto. Grafique los puntos y las fronteras de decisión."
   ]
  },
  {
   "cell_type": "markdown",
   "metadata": {},
   "source": [
    "---"
   ]
  },
  {
   "cell_type": "markdown",
   "metadata": {},
   "source": [
    "Regresión Logística\n",
    "===\n",
    "\n",
    "**Juan David Velásquez Henao**  \n",
    "jdvelasq@unal.edu.co   \n",
    "Universidad Nacional de Colombia, Sede Medellín  \n",
    "Facultad de Minas  \n",
    "Medellín, Colombia\n",
    "\n",
    "---\n",
    "\n",
    "Haga click [aquí](https://github.com/jdvelasq/statistics-for-analytics/tree/master/) para acceder al repositorio online.\n",
    "\n",
    "Haga click [aquí](http://nbviewer.jupyter.org/github/jdvelasq/statistics-for-analytics/tree/master/) para explorar el repositorio usando `nbviewer`. "
   ]
  }
 ],
 "metadata": {
  "kernel_info": {
   "name": "python3"
  },
  "kernelspec": {
   "display_name": "Python 3",
   "language": "python",
   "name": "python3"
  },
  "language_info": {
   "codemirror_mode": {
    "name": "ipython",
    "version": 3
   },
   "file_extension": ".py",
   "mimetype": "text/x-python",
   "name": "python",
   "nbconvert_exporter": "python",
   "pygments_lexer": "ipython3",
   "version": "3.6.4"
  },
  "nteract": {
   "version": "0.7.1"
  },
  "varInspector": {
   "cols": {
    "lenName": 16,
    "lenType": 16,
    "lenVar": 40
   },
   "kernels_config": {
    "python": {
     "delete_cmd_postfix": "",
     "delete_cmd_prefix": "del ",
     "library": "var_list.py",
     "varRefreshCmd": "print(var_dic_list())"
    },
    "r": {
     "delete_cmd_postfix": ") ",
     "delete_cmd_prefix": "rm(",
     "library": "var_list.r",
     "varRefreshCmd": "cat(var_dic_list()) "
    }
   },
   "types_to_exclude": [
    "module",
    "function",
    "builtin_function_or_method",
    "instance",
    "_Feature"
   ],
   "window_display": false
  }
 },
 "nbformat": 4,
 "nbformat_minor": 2
}
