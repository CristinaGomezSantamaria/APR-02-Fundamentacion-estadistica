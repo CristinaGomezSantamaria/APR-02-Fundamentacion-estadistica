{
 "cells": [
  {
   "cell_type": "markdown",
   "metadata": {},
   "source": [
    "Agrupamiento \n",
    "===\n",
    "\n",
    "**Juan David Velásquez Henao**  \n",
    "jdvelasq@unal.edu.co   \n",
    "Universidad Nacional de Colombia, Sede Medellín  \n",
    "Facultad de Minas  \n",
    "Medellín, Colombia\n",
    "\n",
    "---\n",
    "\n",
    "Haga click [aquí](https://github.com/jdvelasq/statistics-for-analytics/tree/master/) para acceder al repositorio online.\n",
    "\n",
    "Haga click [aquí](http://nbviewer.jupyter.org/github/jdvelasq/statistics-for-analytics/tree/master/) para explorar el repositorio usando `nbviewer`. "
   ]
  },
  {
   "cell_type": "markdown",
   "metadata": {},
   "source": [
    "---"
   ]
  },
  {
   "cell_type": "markdown",
   "metadata": {},
   "source": [
    "# Definición del problema real o específico"
   ]
  },
  {
   "cell_type": "markdown",
   "metadata": {},
   "source": [
    "A un museo ha llegado una donación de mesas antiguas y el historiador encargado desea distribuirlas de tal forma que sean restauradas en un centro especializado en las carcaterísticas de cada una. Para ello, desea poder clasificar las mesas en grupos de acuerdo con su largo y ancho para posteriormente enviarlas al taller correspondiente. "
   ]
  },
  {
   "cell_type": "markdown",
   "metadata": {},
   "source": [
    "# Definición del problema real en términos de los datos"
   ]
  },
  {
   "cell_type": "markdown",
   "metadata": {},
   "source": [
    "Se tienen 60 observaciones para las variables 'Ancho(x1)' y 'Largo (x2)', que corresponden a las variables preliminares tomadas por el coleccionista. Se desea determinar si las observaciones están agrupadas en regiones que pueden ser interpretadas posteriormente en términos del conocimiento existente sobre la población de interés.\n",
    "\n",
    "Las observaciones aparecen al final de este archivo.\n",
    "     \n"
   ]
  },
  {
   "cell_type": "markdown",
   "metadata": {},
   "source": [
    "# Solución"
   ]
  },
  {
   "cell_type": "markdown",
   "metadata": {},
   "source": [
    "## Definición del problema"
   ]
  },
  {
   "cell_type": "markdown",
   "metadata": {},
   "source": [
    "Este es el problema inverso al de clasificación. En la siguiente figura se desea determinar cuántos grupos existen en un conjunto de datos y los centroides de dichos grupos; cada centroide representa a los miembros de su grupo.   \n",
    "\n",
    "![agrupamiento-1.jpg](images/agrupamiento/agrupamiento-1.jpg)\n",
    "\n",
    "Nóte que en este ejemplo resulta fácil de visualizar ya que es un problema de dos dimensiones. En la realidad esto es completamente inusual."
   ]
  },
  {
   "cell_type": "markdown",
   "metadata": {},
   "source": [
    "## Algoritmo K-means\n",
    "\n",
    "El algoritmo K-means se basa en asignar $n$ ejemplos a uno de $k$ grupos posibles. La notación usada es la siguiente:\n",
    "\n",
    "\n",
    "* $\\mathbf{x}_k$ representa el punto $i$.\n",
    "\n",
    "\n",
    "* $x_{ij}$ representa las componentes del punto $\\mathbf{x}_i$, con $j=1,...,P$.\n",
    "\n",
    "\n",
    "* $S_k$ representa el conjunto de patrones del grupo $k$.\n",
    "\n",
    "\n",
    "* La pertenencia del ejemplo (patrón) $\\mathbf{x}_i$ al grupo $S_k$ se representa como $\\mathbf{x}_i \\in S_k$. \n",
    "\n",
    "\n",
    "* $\\mathbf{u}_k$ representa el centro del grupo $k$, con componentes $u_{kj}$; $j=1,...,P$ y $k=1,...,K$.\n",
    "\n",
    "\n",
    "El algoritmo asigna el ejemplo $\\mathbf{x}_i$ al grupo al que pertenece el centroide más cercano $\\mathbf{u}_k$. Si se tienen tres grupos ($K=3$), cuyos centroides (representados por los rectángulos) son generados aleatoriamente, los puntos serían asignados a cada grupo de la siguiente forma:\n",
    "\n",
    "![agrupamiento-2](images/agrupamiento/agrupamiento-2.jpg)"
   ]
  },
  {
   "cell_type": "markdown",
   "metadata": {},
   "source": [
    "---\n",
    "**Ejercicio.--** Para los siguientes centros de clusters (9.96, 13.31), (13.24, 8.58) y (14.58, 17.01) asigne cada patrón a uno de los clusters.\n",
    "\n",
    "---"
   ]
  },
  {
   "cell_type": "markdown",
   "metadata": {},
   "source": [
    "En el algoritmo K-means, se pretende minimizar la distancia entre los miembros de cada grupo y maximizar la distancia entre grupos.  Para ello, en este algoritmo se minimiza:\n",
    "\n",
    "$$ \\sum_{i=1}^k \\sum_{\\mathbf{x}_j \\in S_i} \\text{dist}( \\mathbf{x}_j, \\mathbf{u}_i)$$\n",
    "\n",
    "\n",
    "Si se usa la norma euclidiana:\n",
    "\n",
    "$$ \\text{dist}( \\mathbf{x}_j, \\mathbf{u}_i) = \\| \\mathbf{x}_j - \\mathbf{u}_i \\|^2 = \\sum_{p=1}^P (x_{jp} - u_{ip})^2$$\n",
    "\n",
    "Este proceso se realiza en dos fases:\n",
    "\n",
    "\n",
    "* Paso 1: Dados los centros de los clusters $\\mathbf{u}_i$, cada punto $\\mathbf{x}_j$ se asigna al cluster más cercano. En esta fase se asignan todos los ejemplos de la muestra de datos a un cluster (Ejercicio anterior).\n",
    "\n",
    "\n",
    "* Paso 2: Se recalcula cada centro $\\mathbf{u}_i$ como el promedio de los puntos $\\mathbf{x}_j$ que pertenecen a él; es decir, la componente $u_{ip}$ del centroide $i$ es el promedio de las componentes $x_{jp}$. \n",
    "\n",
    "\n",
    "El algoritmo se detiene cuando ningún punto cambia de cluster. Este caso es ejemplificado en la siguiente figura."
   ]
  },
  {
   "cell_type": "markdown",
   "metadata": {},
   "source": [
    "![agrupamiento-3](images/agrupamiento/agrupamiento-3.jpg)"
   ]
  },
  {
   "cell_type": "markdown",
   "metadata": {},
   "source": [
    "---\n",
    "**Ejercicio.--** Compute los nuevos centros de los clusters y asigne nuevamente los ejemplos a los clusters hasta que el algoritmo converja.\n",
    "\n",
    "---"
   ]
  },
  {
   "cell_type": "markdown",
   "metadata": {},
   "source": [
    "## Métricas de distancia"
   ]
  },
  {
   "cell_type": "markdown",
   "metadata": {},
   "source": [
    "Existen distintas métricas para computar la distancia entre puntos. "
   ]
  },
  {
   "cell_type": "markdown",
   "metadata": {},
   "source": [
    "**Euclidiana.** \n",
    "\n",
    "$$ \\text{dist}(\\mathbf{x}_i, \\mathbf{x}_j) =\\left\\{ \\sum_k (x_{ik} - x_{jk})^2 \\right\\}^\\frac{1}{2}$$\n",
    "\n",
    "**Manhattan.**\n",
    "\n",
    "$$ \\text{dist}(\\mathbf{x}_i, \\mathbf{x}_j) = \\sum_k \\left|x_{ik} - x_{jk}\\right| $$\n",
    "\n",
    "\n",
    "**Chebychev**.\n",
    "\n",
    "$$ \\text{dist}(\\mathbf{x}_i, \\mathbf{x}_j) = \\max_k \\left|x_{ik} - x_{jk}\\right| $$\n",
    "\n",
    "\n"
   ]
  },
  {
   "cell_type": "markdown",
   "metadata": {},
   "source": [
    "## Escalamiento y transformación de variables"
   ]
  },
  {
   "cell_type": "markdown",
   "metadata": {},
   "source": [
    "El algoritmo K-means se ve afectado por la escala de las variables. Por ello, se debe realizar la transformación de las variables antes de aplicar K-means. En las siguientes ecuaciones, $x$ representa cualquiera de las componentes de $\\mathbf{x}$."
   ]
  },
  {
   "cell_type": "markdown",
   "metadata": {},
   "source": [
    "**Normalización max-min.** \n",
    "\n",
    "$$x_* = \\frac{x-\\min(x)}{\\max(x) - \\min(x)}$$"
   ]
  },
  {
   "cell_type": "markdown",
   "metadata": {},
   "source": [
    "**Estandarización z-score.**\n",
    "\n",
    "$$z_* = \\frac{x-\\mu_x}{\\sigma_x}$$\n",
    "\n",
    "* $\\mu_x$ es la media de $x$.\n",
    "* $\\sigma_x$ es la desviación estándar de $x$."
   ]
  },
  {
   "cell_type": "markdown",
   "metadata": {},
   "source": [
    "**Variables nominales.** Una variable nominal con categorías $C_1$, $C_2$, ..., $C_n$ se codifica con $n-1$ niveles, $L_i$, $i=1,...,n-1$:\n",
    "\n",
    "$$ L_i =\n",
    "   \\begin{cases}\n",
    "      1, & \\text{if $\\mathbf{x} \\in C_i$.} \\\\\n",
    "      0, &\\text{En caso contrario.}\n",
    "   \\end{cases}\n",
    "$$\n"
   ]
  },
  {
   "cell_type": "markdown",
   "metadata": {},
   "source": [
    "Si las categorías están ordenadas se codifica como:\n",
    "\n",
    "$$ L_i =\n",
    "   \\begin{cases}\n",
    "      i, & \\text{if $\\mathbf{x} \\in C_i$.} \\\\\n",
    "      0, &\\text{En caso contrario.}\n",
    "   \\end{cases}\n",
    "$$\n",
    "\n",
    "y luego es realiza la normalización."
   ]
  },
  {
   "cell_type": "markdown",
   "metadata": {},
   "source": [
    "# Clustering Jerárquico Divisivo\n",
    "\n",
    "El algoritmo se inicia con un solo cluster que contiene todos los datos. Cada cluster es dividido recursivamente en dos clusters de máxima disimilitud. El algoritmo finaliza cuando hay un cluster por cada observación."
   ]
  },
  {
   "cell_type": "markdown",
   "metadata": {},
   "source": [
    "# Clustering Jerárquico Aglomerativo\n",
    "\n",
    "En esta algoritmo, cada cluster contiene un solo dato. \n",
    "\n",
    "1. Se calcula la métrica de distancia entre todos los clusters.\n",
    "\n",
    "2. Se unen los dos clusters con menor distancia en uno solo.\n",
    "\n",
    "3. Se retorna al paso 1.\n",
    "\n",
    "El algoritmo se detiene cuando se llegue a un solo cluster que contiene todos los datos."
   ]
  },
  {
   "cell_type": "markdown",
   "metadata": {},
   "source": [
    "# Bisecting K-means\n",
    "\n",
    "Este es un procedimiento constructivo a medias entre el agrupamiento jerárquico y K-means. El algoritmo se inicia con un solo cluster que contiene todos los datos y se ejecuta de la siguiente forma:\n",
    "\n",
    "1. Se selecciona un cluster para dividir.\n",
    "\n",
    "2. Se divide el cluster seleccionado en dos clusters usando K-means. Este es el paso de bisección.\n",
    "\n",
    "3. Repita el paso 2 por un número fijo de veces y seleccione la partición con la mejor métrica de desempeño.\n",
    "\n",
    "4. Repita los pasos 1, 2 y 3 hasta alcanzar el número deseado de clusters.\n",
    "\n"
   ]
  },
  {
   "cell_type": "markdown",
   "metadata": {},
   "source": [
    "---\n",
    "**Ejercicio.--** Para el conjunto de datos que aparece al final de este tutorial, aplique este método hasta obtener 3 clusters.\n",
    "\n",
    "---"
   ]
  },
  {
   "cell_type": "markdown",
   "metadata": {},
   "source": [
    "# K-medoids"
   ]
  },
  {
   "cell_type": "markdown",
   "metadata": {},
   "source": [
    "En esta variación del algoritmo, los centros (medoids) de cada cluster son puntos de la muestra de datos; esto es, el centro de cada cluster es uno de los puntos asignados al cluster. El algoritmo opera de forma similar a K-means:\n",
    "\n",
    "* Paso 1: Se seleccionan $k$ puntos como centros de los clusters.\n",
    "\n",
    "* Paso 2: Para todos los clusters se verifica si alguno de los miembros del cluster disminuye la métrica de distancia utilizada. En caso afirmativo, este punto pasa a ser el nuevo centro del cluster. En caso negativo, hay convergencia del algoritmo.\n",
    "\n",
    "* Paso 3: Se asignan los puntos al cluster con centro más cercano y se retorna al Paso 2. "
   ]
  },
  {
   "cell_type": "markdown",
   "metadata": {},
   "source": [
    "---\n",
    "**Ejercicio.--** Para el conjunto de datos que aparece al final de este tutorial, use los puntos 1, 21 y 41 como medoids. Asigne los puntos restantes a cada uno de los clusters y determine cuál punto debe ser el siguiente medoid para cada cluster.\n",
    "\n",
    "---"
   ]
  },
  {
   "cell_type": "markdown",
   "metadata": {},
   "source": [
    "# K-means++\n",
    "\n",
    "Este algoritmo es similar al algoritmo K-means, con la diferencia que los nuevos centros de los clusters son generados de forma aleatoria."
   ]
  },
  {
   "cell_type": "markdown",
   "metadata": {},
   "source": [
    "# Mini batch K-means\n",
    "\n",
    "Este método se basa en tomar un subconjunto de los datos disponibles para estimar los clusters. Se usa para grandes conjuntos de datos.\n",
    "\n",
    "Para un número $T$ de iteraciones y unos centros iniciales aleatorios se realiza el siguiente procedimiento:\n",
    "\n",
    "1. Se seleccionan $b$ puntos aleatoriamente del conjunto de datos.\n",
    "\n",
    "2. Se asignan los puntos a los clusters actuales como en K-means.\n",
    "\n",
    "3. Por cada uno de los $b$ puntos se ajusta el centro del correspondiente cluster uno a uno.\n",
    "\n",
    "Este algoritmo usa una regla de ajuste similar a la regla de aprendizaje del perceptrón."
   ]
  },
  {
   "cell_type": "markdown",
   "metadata": {},
   "source": [
    "# Canopy Clustering\n",
    "\n",
    "Es un método para crear grupos de elementos cercanos y se puede usar como una fase preliminar antes de usar otros métodos como k-means. El método requiere definir dos distancias `T1` y `T2`. El método funciona como se indica a continuación:\n",
    "\n",
    "* Se colocan todos los puntos en el conjunto $S$.\n",
    "\n",
    "\n",
    "* Mientras $S$ no este vacio:\n",
    "    \n",
    "  * Seleccione aleatoriamente un punto $\\mathbf{r}$ del conjunto $S$ y remuevalo. Este el centro de un nuevo canopy.\n",
    "    \n",
    "  * Para cada punto $\\mathbf{x}$ en $S$ compute la distancia $d$ entre $\\mathbf{x}$ y $\\mathbf{r}$.\n",
    "    \n",
    "  * Si $d$ < `T1`,  agregue el punto $\\mathbf{x}$ al canopy con centro en $\\mathbf{r}$.\n",
    "    \n",
    "  * Si $d$ < `T2`,  remueva $\\mathbf{x}$ de $S$.\n",
    "    \n",
    "    \n",
    "Note que un punto podría pertenecer a más de un canopy. Para el ejemplo desarrollado, cada canopy es representado por un circulo.        "
   ]
  },
  {
   "cell_type": "markdown",
   "metadata": {},
   "source": [
    "![agrupamiento-3](images/agrupamiento/agrupamiento-4.jpg)"
   ]
  },
  {
   "cell_type": "markdown",
   "metadata": {},
   "source": [
    "---\n",
    "**Ejercicio.--** Para el conjunto de datos que aparece al final de este tutorial:\n",
    "\n",
    "* Use el punto No. 1 como centro del primer canopy y determine cuales puntos deben ser asignados a este canopy.\n",
    "\n",
    "* Use el punto No. 21 como centro del segundo canopy y determine cuales puntos deben ser asignados a este canopy.\n",
    "\n",
    "usando `T1` = 0.18 y `T2`= 0.22.\n",
    "\n",
    "---"
   ]
  },
  {
   "cell_type": "markdown",
   "metadata": {},
   "source": [
    "# Fuzzy Clustering"
   ]
  },
  {
   "cell_type": "markdown",
   "metadata": {},
   "source": [
    "Mientras que en el caso tradicional un punto pertence o no a un cluster, en el agrupamiento difuso se permite la pertenencia parcial. Esto implica, que un punto podría pertenecer simultaneamente a varios cluster. El nivel de pertenencia se mide mediante un número real en el intevalo [0, 1], donde el cero indica la absoluta certeza de que el punto no pertence al cluster; y donde el uno indica la absoluta certeza de que el punto si pertenece al cluster."
   ]
  },
  {
   "cell_type": "markdown",
   "metadata": {},
   "source": [
    "El algoritmo requere que se definan los siguientes parámetros para us uso:\n",
    "\n",
    "\n",
    "* $K$: la cantidad de clusters.\n",
    "\n",
    "\n",
    "* $m$: un valor entero, donde 1 genera una partición con una pertenencia (prácticamente) exclusiva de cada punto a un cluster; y $m$ > 30, genera valores de pertenencia cercanos a 1 / $K$.\n",
    "\n",
    "\n",
    "* $d^2_{ij}$: la métrica de distancia entre los puntos $i$ y $j$\n",
    "\n",
    "\n",
    "* $u_k, k = 1,...,K$: centros de los clusters, generados de forma aleatoria al inicio del algoritmo. \n",
    "\n",
    "\n",
    "* $w_{ik}$: es la pertenencia del punto $i$ al cluster $k$.\n",
    "\n",
    "El algoritmo es el siguiente:\n",
    "\n",
    "\n",
    "* Se computa la matriz de pertenencia difusa, donde $w_{ij}$ representa la pertenencia del punto $i$ al cluster $j$.\n",
    "\n",
    "$$w_{ik} = \\left\\{\n",
    "\\sum_{k=1}^K \\left(\n",
    "\\frac{\\|\\mathbf{x}_i - \\mathbf{u}_j\\|}{|\\mathbf{x}_i - \\mathbf{u}_k\\|}\n",
    "\\right) ^\\frac{2}{m-1}\n",
    "\\right\\}^{-1}\n",
    "$$\n",
    "\n",
    "\n",
    "* Se computan los nuevos centros como:\n",
    "\n",
    "$$\\mathbf{u}_{k} = \\frac{\\sum_i (w_{ik})^m \\; \\mathbf{x}_k}{\\sum_i (w_{ik})^m} $$\n",
    "\n",
    "\n",
    "El algoritmo se detiene cuando se alcanza un máximo de iteraciones o los valores de $w_{ij}$ cambian muy poco de una interacción a la siguiente."
   ]
  },
  {
   "cell_type": "markdown",
   "metadata": {},
   "source": [
    "---\n",
    "**Ejercicio.--** Para los siguientes centros de clusters (9.96, 13.31), (13.24, 8.58) y (14.58, 17.01) asigne cada patrón a uno de los clusters y compute los siguientes centros usando fuzzy K-means, con $m=1.2$.\n",
    "\n",
    "---"
   ]
  },
  {
   "cell_type": "markdown",
   "metadata": {},
   "source": [
    "# Spectal K-means\n",
    "\n",
    "En este caso se aplica el algoritmo K-means a los vectores y valores propios de la matriz de similitud de los datos. El algoritmo procede como se indica a continuación:\n",
    "\n",
    "\n",
    "* Se calcula la matriz de distancias entre los puntos; $A_{ij} = A_{ji}$ representa la distancia entre los puntos $\\mathbf{x}_i$ y $\\mathbf{x}_j$.\n",
    "\n",
    "\n",
    "* Se computa el Laplaciano $\\mathbf{L}$ de la matriz $A$.\n",
    "\n",
    "\n",
    "* Se calculan los primeros $K$ vectores y valores propios de $\\mathbf{L}$.\n",
    "\n",
    "\n",
    "* Los $K$ vectores propios son usandos en el algoritmo K-means.\n",
    "\n"
   ]
  },
  {
   "cell_type": "markdown",
   "metadata": {},
   "source": [
    "---"
   ]
  },
  {
   "cell_type": "markdown",
   "metadata": {},
   "source": [
    "       #        x[1]        x[2]\n",
    "       1       10,67       14,70\n",
    "       2        9,74       13,79\n",
    "       3       10,23       14,30\n",
    "       4       11,17       15,53\n",
    "       5       10,41       15,08\n",
    "       6       11,14       14,45\n",
    "       7       10,12       12,95\n",
    "       8        9,58       13,76\n",
    "       9       11,16       15,21\n",
    "      10       10,08       13,53\n",
    "      11        9,96       13,31\n",
    "      12        9,17       12,41\n",
    "      13       11,52       16,01\n",
    "      14       11,27       15,41\n",
    "      15        8,72       11,66\n",
    "      16       11,30       15,11\n",
    "      17        9,70       13,56\n",
    "      18        8,69       11,81\n",
    "      19       10,99       16,28\n",
    "      20       10,82       14,41\n",
    "      21       10,87        6,91\n",
    "      22       11,95        6,05\n",
    "      23       12,77        7,97\n",
    "      24       13,25        8,03\n",
    "      25       14,42        9,25\n",
    "      26       16,03        9,88\n",
    "      27       12,23        6,97\n",
    "      28       13,24        8,58\n",
    "      29       10,88        6,15\n",
    "      30       15,85        9,51\n",
    "      31       11,63        7,28\n",
    "      32       13,41        8,35\n",
    "      33       11,71        6,37\n",
    "      34       12,49        7,60\n",
    "      35       14,46        8,21\n",
    "      36       15,00       10,11\n",
    "      37       12,24        7,16\n",
    "      38       13,68        8,12\n",
    "      39       15,06        8,47\n",
    "      40       12,78        8,74\n",
    "      41       13,27       13,92\n",
    "      42       14,40       16,58\n",
    "      43       14,50       17,39\n",
    "      44       14,20       16,70\n",
    "      45       14,62       17,22\n",
    "      46       13,05       12,20\n",
    "      47       14,43       16,31\n",
    "      48       13,51       15,12\n",
    "      49       14,63       17,00\n",
    "      50       15,36       16,95\n",
    "      51       14,24       17,55\n",
    "      52       13,82       15,46\n",
    "      53       14,52       18,90\n",
    "      54       15,43       19,00\n",
    "      55       14,58       17,01\n",
    "      56       12,87       14,26\n",
    "      57       15,37       18,91\n",
    "      58       15,61       19,00\n",
    "      59       15,12       17,84\n",
    "      60       13,64       15,49"
   ]
  },
  {
   "cell_type": "markdown",
   "metadata": {},
   "source": [
    "---"
   ]
  },
  {
   "cell_type": "markdown",
   "metadata": {},
   "source": [
    "Agrupamiento \n",
    "===\n",
    "\n",
    "**Juan David Velásquez Henao**  \n",
    "jdvelasq@unal.edu.co   \n",
    "Universidad Nacional de Colombia, Sede Medellín  \n",
    "Facultad de Minas  \n",
    "Medellín, Colombia\n",
    "\n",
    "---\n",
    "\n",
    "Haga click [aquí](https://github.com/jdvelasq/statistics-for-analytics/tree/master/) para acceder al repositorio online.\n",
    "\n",
    "Haga click [aquí](http://nbviewer.jupyter.org/github/jdvelasq/statistics-for-analytics/tree/master/) para explorar el repositorio usando `nbviewer`. "
   ]
  }
 ],
 "metadata": {
  "kernel_info": {
   "name": "python3"
  },
  "kernelspec": {
   "display_name": "Python 3",
   "language": "python",
   "name": "python3"
  },
  "language_info": {
   "codemirror_mode": {
    "name": "ipython",
    "version": 3
   },
   "file_extension": ".py",
   "mimetype": "text/x-python",
   "name": "python",
   "nbconvert_exporter": "python",
   "pygments_lexer": "ipython3",
   "version": "3.6.4"
  },
  "nteract": {
   "version": "0.7.1"
  },
  "varInspector": {
   "cols": {
    "lenName": 16,
    "lenType": 16,
    "lenVar": 40
   },
   "kernels_config": {
    "python": {
     "delete_cmd_postfix": "",
     "delete_cmd_prefix": "del ",
     "library": "var_list.py",
     "varRefreshCmd": "print(var_dic_list())"
    },
    "r": {
     "delete_cmd_postfix": ") ",
     "delete_cmd_prefix": "rm(",
     "library": "var_list.r",
     "varRefreshCmd": "cat(var_dic_list()) "
    }
   },
   "types_to_exclude": [
    "module",
    "function",
    "builtin_function_or_method",
    "instance",
    "_Feature"
   ],
   "window_display": false
  }
 },
 "nbformat": 4,
 "nbformat_minor": 2
}
